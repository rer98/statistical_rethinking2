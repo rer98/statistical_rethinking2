{
 "cells": [
  {
   "cell_type": "code",
   "execution_count": 1,
   "metadata": {},
   "outputs": [
    {
     "name": "stderr",
     "output_type": "stream",
     "text": [
      "Loading required package: rstan\n",
      "Loading required package: ggplot2\n",
      "Loading required package: StanHeaders\n",
      "rstan (Version 2.18.2, GitRev: 2e1f913d3ca3)\n",
      "For execution on a local, multicore CPU with excess RAM we recommend calling\n",
      "options(mc.cores = parallel::detectCores()).\n",
      "To avoid recompilation of unchanged Stan programs, we recommend calling\n",
      "rstan_options(auto_write = TRUE)\n",
      "Loading required package: parallel\n",
      "rethinking (Version 1.88)\n"
     ]
    }
   ],
   "source": [
    "mc.cores = parallel::detectCores()\n",
    "#rstan_options(auto_write = TRUE)\n",
    "\n",
    "library(rethinking)"
   ]
  },
  {
   "cell_type": "code",
   "execution_count": 2,
   "metadata": {},
   "outputs": [
    {
     "data": {
      "text/html": [
       "-0.768008311908631"
      ],
      "text/latex": [
       "-0.768008311908631"
      ],
      "text/markdown": [
       "-0.768008311908631"
      ],
      "text/plain": [
       "[1] -0.7680083"
      ]
     },
     "metadata": {},
     "output_type": "display_data"
    }
   ],
   "source": [
    "set.seed(1914)\n",
    "N <- 200 # num grant proposals\n",
    "p <- 0.1 # proportion to select\n",
    "# uncorrelated newsworthiness and trustworthiness\n",
    "nw <- rnorm(N)\n",
    "tw <- rnorm(N)\n",
    "# select top 10% of combined scores\n",
    "s <- nw + tw # total score\n",
    "q <- quantile( s , 1-p ) # top 10% threshold\n",
    "selected <- ifelse( s >= q , TRUE , FALSE )\n",
    "cor( tw[selected] , nw[selected] )"
   ]
  },
  {
   "cell_type": "code",
   "execution_count": 3,
   "metadata": {},
   "outputs": [],
   "source": [
    "N <- 100\n",
    "set.seed(909)\n",
    "height <- rnorm(N,10,2)\n",
    "leg_prop <- runif(N,0.4,0.5)\n",
    "leg_left <- leg_prop*height +\n",
    "rnorm( N , 0 , 0.02 )\n",
    "leg_right <- leg_prop*height +\n",
    "rnorm( N , 0 , 0.02 )\n",
    "# number of individuals\n",
    "# sim total height of each\n",
    "# leg as proportion of height\n",
    "# sim left leg as proportion + error\n",
    "# sim right leg as proportion + error\n",
    "# combine into data frame\n",
    "d <- data.frame(height,leg_left,leg_right)"
   ]
  },
  {
   "cell_type": "code",
   "execution_count": 4,
   "metadata": {},
   "outputs": [
    {
     "data": {
      "text/html": [
       "<table>\n",
       "<caption>A data.frame: 6 × 3</caption>\n",
       "<thead>\n",
       "\t<tr><th scope=col>height</th><th scope=col>leg_left</th><th scope=col>leg_right</th></tr>\n",
       "\t<tr><th scope=col>&lt;dbl&gt;</th><th scope=col>&lt;dbl&gt;</th><th scope=col>&lt;dbl&gt;</th></tr>\n",
       "</thead>\n",
       "<tbody>\n",
       "\t<tr><td> 5.931417</td><td>2.679411</td><td>2.709286</td></tr>\n",
       "\t<tr><td> 6.512983</td><td>2.676428</td><td>2.680007</td></tr>\n",
       "\t<tr><td> 9.346628</td><td>3.927155</td><td>3.984947</td></tr>\n",
       "\t<tr><td> 9.233033</td><td>3.964191</td><td>3.993389</td></tr>\n",
       "\t<tr><td>10.357128</td><td>4.427593</td><td>4.418766</td></tr>\n",
       "\t<tr><td>10.088923</td><td>4.956641</td><td>4.971878</td></tr>\n",
       "</tbody>\n",
       "</table>\n"
      ],
      "text/latex": [
       "A data.frame: 6 × 3\n",
       "\\begin{tabular}{r|lll}\n",
       " height & leg\\_left & leg\\_right\\\\\n",
       " <dbl> & <dbl> & <dbl>\\\\\n",
       "\\hline\n",
       "\t  5.931417 & 2.679411 & 2.709286\\\\\n",
       "\t  6.512983 & 2.676428 & 2.680007\\\\\n",
       "\t  9.346628 & 3.927155 & 3.984947\\\\\n",
       "\t  9.233033 & 3.964191 & 3.993389\\\\\n",
       "\t 10.357128 & 4.427593 & 4.418766\\\\\n",
       "\t 10.088923 & 4.956641 & 4.971878\\\\\n",
       "\\end{tabular}\n"
      ],
      "text/markdown": [
       "\n",
       "A data.frame: 6 × 3\n",
       "\n",
       "| height &lt;dbl&gt; | leg_left &lt;dbl&gt; | leg_right &lt;dbl&gt; |\n",
       "|---|---|---|\n",
       "|  5.931417 | 2.679411 | 2.709286 |\n",
       "|  6.512983 | 2.676428 | 2.680007 |\n",
       "|  9.346628 | 3.927155 | 3.984947 |\n",
       "|  9.233033 | 3.964191 | 3.993389 |\n",
       "| 10.357128 | 4.427593 | 4.418766 |\n",
       "| 10.088923 | 4.956641 | 4.971878 |\n",
       "\n"
      ],
      "text/plain": [
       "  height    leg_left leg_right\n",
       "1  5.931417 2.679411 2.709286 \n",
       "2  6.512983 2.676428 2.680007 \n",
       "3  9.346628 3.927155 3.984947 \n",
       "4  9.233033 3.964191 3.993389 \n",
       "5 10.357128 4.427593 4.418766 \n",
       "6 10.088923 4.956641 4.971878 "
      ]
     },
     "metadata": {},
     "output_type": "display_data"
    }
   ],
   "source": [
    "head(d)"
   ]
  },
  {
   "cell_type": "code",
   "execution_count": 5,
   "metadata": {},
   "outputs": [
    {
     "data": {
      "text/html": [
       "<table>\n",
       "<caption>A precis: 4 × 4</caption>\n",
       "<thead>\n",
       "\t<tr><th></th><th scope=col>mean</th><th scope=col>sd</th><th scope=col>5.5%</th><th scope=col>94.5%</th></tr>\n",
       "\t<tr><th></th><th scope=col>&lt;dbl&gt;</th><th scope=col>&lt;dbl&gt;</th><th scope=col>&lt;dbl&gt;</th><th scope=col>&lt;dbl&gt;</th></tr>\n",
       "</thead>\n",
       "<tbody>\n",
       "\t<tr><th scope=row>a</th><td>0.9812791</td><td>0.28395540</td><td> 0.5274635</td><td>1.4350947</td></tr>\n",
       "\t<tr><th scope=row>bl</th><td>0.2118585</td><td>2.52703706</td><td>-3.8268348</td><td>4.2505518</td></tr>\n",
       "\t<tr><th scope=row>br</th><td>1.7836774</td><td>2.53125061</td><td>-2.2617500</td><td>5.8291047</td></tr>\n",
       "\t<tr><th scope=row>sigma</th><td>0.6171026</td><td>0.04343427</td><td> 0.5476862</td><td>0.6865189</td></tr>\n",
       "</tbody>\n",
       "</table>\n"
      ],
      "text/latex": [
       "A precis: 4 × 4\n",
       "\\begin{tabular}{r|llll}\n",
       "  & mean & sd & 5.5\\% & 94.5\\%\\\\\n",
       "  & <dbl> & <dbl> & <dbl> & <dbl>\\\\\n",
       "\\hline\n",
       "\ta & 0.9812791 & 0.28395540 &  0.5274635 & 1.4350947\\\\\n",
       "\tbl & 0.2118585 & 2.52703706 & -3.8268348 & 4.2505518\\\\\n",
       "\tbr & 1.7836774 & 2.53125061 & -2.2617500 & 5.8291047\\\\\n",
       "\tsigma & 0.6171026 & 0.04343427 &  0.5476862 & 0.6865189\\\\\n",
       "\\end{tabular}\n"
      ],
      "text/markdown": [
       "\n",
       "A precis: 4 × 4\n",
       "\n",
       "| <!--/--> | mean &lt;dbl&gt; | sd &lt;dbl&gt; | 5.5% &lt;dbl&gt; | 94.5% &lt;dbl&gt; |\n",
       "|---|---|---|---|---|\n",
       "| a | 0.9812791 | 0.28395540 |  0.5274635 | 1.4350947 |\n",
       "| bl | 0.2118585 | 2.52703706 | -3.8268348 | 4.2505518 |\n",
       "| br | 1.7836774 | 2.53125061 | -2.2617500 | 5.8291047 |\n",
       "| sigma | 0.6171026 | 0.04343427 |  0.5476862 | 0.6865189 |\n",
       "\n"
      ],
      "text/plain": [
       "      mean      sd         5.5%       94.5%    \n",
       "a     0.9812791 0.28395540  0.5274635 1.4350947\n",
       "bl    0.2118585 2.52703706 -3.8268348 4.2505518\n",
       "br    1.7836774 2.53125061 -2.2617500 5.8291047\n",
       "sigma 0.6171026 0.04343427  0.5476862 0.6865189"
      ]
     },
     "metadata": {},
     "output_type": "display_data"
    }
   ],
   "source": [
    "m6.1 <- quap(\n",
    "            alist(\n",
    "            height ~ dnorm( mu , sigma ) ,\n",
    "            mu <- a + bl*leg_left + br*leg_right ,\n",
    "            a ~ dnorm( 10 , 100 ) ,\n",
    "            bl ~ dnorm( 2 , 10 ) ,\n",
    "            br ~ dnorm( 2 , 10 ) ,\n",
    "            sigma ~ dexp( 1 )\n",
    "            ) ,\n",
    "            data=d )\n",
    "\n",
    "precis(m6.1)"
   ]
  },
  {
   "cell_type": "code",
   "execution_count": 6,
   "metadata": {},
   "outputs": [
    {
     "data": {
      "image/png": "[encoded data removed]",
      "text/plain": [
       "plot without title"
      ]
     },
     "metadata": {},
     "output_type": "display_data"
    }
   ],
   "source": [
    "plot(precis(m6.1))"
   ]
  },
  {
   "cell_type": "code",
   "execution_count": 7,
   "metadata": {
    "scrolled": true
   },
   "outputs": [
    {
     "data": {
      "image/png": "[encoded data removed]",
      "text/plain": [
       "plot without title"
      ]
     },
     "metadata": {},
     "output_type": "display_data"
    }
   ],
   "source": [
    "post <- extract.samples(m6.1)\n",
    "plot( bl ~ br , post , col=col.alpha(rangi2,0.1) , pch=16 )"
   ]
  },
  {
   "cell_type": "code",
   "execution_count": 8,
   "metadata": {
    "scrolled": true
   },
   "outputs": [
    {
     "data": {
      "image/png": "[encoded data removed]",
      "text/plain": [
       "Plot with title “”"
      ]
     },
     "metadata": {},
     "output_type": "display_data"
    }
   ],
   "source": [
    "sum_blbr <- post$bl + post$br\n",
    "dens( sum_blbr , col=rangi2 , lwd=2 , xlab=\"sum of bl and br\" )"
   ]
  },
  {
   "cell_type": "code",
   "execution_count": 9,
   "metadata": {},
   "outputs": [
    {
     "data": {
      "text/html": [
       "<table>\n",
       "<caption>A precis: 3 × 4</caption>\n",
       "<thead>\n",
       "\t<tr><th></th><th scope=col>mean</th><th scope=col>sd</th><th scope=col>5.5%</th><th scope=col>94.5%</th></tr>\n",
       "\t<tr><th></th><th scope=col>&lt;dbl&gt;</th><th scope=col>&lt;dbl&gt;</th><th scope=col>&lt;dbl&gt;</th><th scope=col>&lt;dbl&gt;</th></tr>\n",
       "</thead>\n",
       "<tbody>\n",
       "\t<tr><th scope=row>a</th><td>0.9979326</td><td>0.28364620</td><td>0.5446112</td><td>1.451254</td></tr>\n",
       "\t<tr><th scope=row>bl</th><td>1.9920676</td><td>0.06115704</td><td>1.8943269</td><td>2.089808</td></tr>\n",
       "\t<tr><th scope=row>sigma</th><td>0.6186038</td><td>0.04353998</td><td>0.5490185</td><td>0.688189</td></tr>\n",
       "</tbody>\n",
       "</table>\n"
      ],
      "text/latex": [
       "A precis: 3 × 4\n",
       "\\begin{tabular}{r|llll}\n",
       "  & mean & sd & 5.5\\% & 94.5\\%\\\\\n",
       "  & <dbl> & <dbl> & <dbl> & <dbl>\\\\\n",
       "\\hline\n",
       "\ta & 0.9979326 & 0.28364620 & 0.5446112 & 1.451254\\\\\n",
       "\tbl & 1.9920676 & 0.06115704 & 1.8943269 & 2.089808\\\\\n",
       "\tsigma & 0.6186038 & 0.04353998 & 0.5490185 & 0.688189\\\\\n",
       "\\end{tabular}\n"
      ],
      "text/markdown": [
       "\n",
       "A precis: 3 × 4\n",
       "\n",
       "| <!--/--> | mean &lt;dbl&gt; | sd &lt;dbl&gt; | 5.5% &lt;dbl&gt; | 94.5% &lt;dbl&gt; |\n",
       "|---|---|---|---|---|\n",
       "| a | 0.9979326 | 0.28364620 | 0.5446112 | 1.451254 |\n",
       "| bl | 1.9920676 | 0.06115704 | 1.8943269 | 2.089808 |\n",
       "| sigma | 0.6186038 | 0.04353998 | 0.5490185 | 0.688189 |\n",
       "\n"
      ],
      "text/plain": [
       "      mean      sd         5.5%      94.5%   \n",
       "a     0.9979326 0.28364620 0.5446112 1.451254\n",
       "bl    1.9920676 0.06115704 1.8943269 2.089808\n",
       "sigma 0.6186038 0.04353998 0.5490185 0.688189"
      ]
     },
     "metadata": {},
     "output_type": "display_data"
    }
   ],
   "source": [
    "m6.2 <- quap(\n",
    "alist(\n",
    "height ~ dnorm( mu , sigma ) ,\n",
    "mu <- a + bl*leg_left,\n",
    "a ~ dnorm( 10 , 100 ) ,\n",
    "bl ~ dnorm( 2 , 10 ) ,\n",
    "sigma ~ dexp( 1 )\n",
    ") ,\n",
    "data=d )\n",
    "precis(m6.2)"
   ]
  },
  {
   "cell_type": "code",
   "execution_count": 10,
   "metadata": {},
   "outputs": [
    {
     "data": {
      "text/html": [
       "<table>\n",
       "<caption>A data.frame: 6 × 11</caption>\n",
       "<thead>\n",
       "\t<tr><th scope=col>clade</th><th scope=col>species</th><th scope=col>kcal.per.g</th><th scope=col>perc.fat</th><th scope=col>perc.protein</th><th scope=col>perc.lactose</th><th scope=col>mass</th><th scope=col>neocortex.perc</th><th scope=col>K</th><th scope=col>F</th><th scope=col>L</th></tr>\n",
       "\t<tr><th scope=col>&lt;fct&gt;</th><th scope=col>&lt;fct&gt;</th><th scope=col>&lt;dbl&gt;</th><th scope=col>&lt;dbl&gt;</th><th scope=col>&lt;dbl&gt;</th><th scope=col>&lt;dbl&gt;</th><th scope=col>&lt;dbl&gt;</th><th scope=col>&lt;dbl&gt;</th><th scope=col>&lt;dbl[,1]&gt;</th><th scope=col>&lt;dbl[,1]&gt;</th><th scope=col>&lt;dbl[,1]&gt;</th></tr>\n",
       "</thead>\n",
       "<tbody>\n",
       "\t<tr><td>Strepsirrhine   </td><td>Eulemur fulvus    </td><td>0.49</td><td>16.60</td><td>15.42</td><td>67.98</td><td>1.95</td><td>55.16</td><td>-0.9400408</td><td>-1.2172427</td><td>1.3072619</td></tr>\n",
       "\t<tr><td>Strepsirrhine   </td><td>E macaco          </td><td>0.51</td><td>19.27</td><td>16.91</td><td>63.82</td><td>2.09</td><td>   NA</td><td>-0.8161263</td><td>-1.0303552</td><td>1.0112855</td></tr>\n",
       "\t<tr><td>Strepsirrhine   </td><td>E mongoz          </td><td>0.46</td><td>14.11</td><td>16.85</td><td>69.04</td><td>2.51</td><td>   NA</td><td>-1.1259125</td><td>-1.3915310</td><td>1.3826790</td></tr>\n",
       "\t<tr><td>Strepsirrhine   </td><td>E rubriventer     </td><td>0.48</td><td>14.91</td><td>13.18</td><td>71.91</td><td>1.62</td><td>   NA</td><td>-1.0019980</td><td>-1.3355347</td><td>1.5868743</td></tr>\n",
       "\t<tr><td>Strepsirrhine   </td><td>Lemur catta       </td><td>0.60</td><td>27.28</td><td>19.50</td><td>53.22</td><td>2.19</td><td>   NA</td><td>-0.2585112</td><td>-0.4696927</td><td>0.2571148</td></tr>\n",
       "\t<tr><td>New World Monkey</td><td>Alouatta seniculus</td><td>0.47</td><td>21.22</td><td>23.58</td><td>55.20</td><td>5.25</td><td>64.54</td><td>-1.0639553</td><td>-0.8938643</td><td>0.3979882</td></tr>\n",
       "</tbody>\n",
       "</table>\n"
      ],
      "text/latex": [
       "A data.frame: 6 × 11\n",
       "\\begin{tabular}{r|lllllllllll}\n",
       " clade & species & kcal.per.g & perc.fat & perc.protein & perc.lactose & mass & neocortex.perc & K & F & L\\\\\n",
       " <fct> & <fct> & <dbl> & <dbl> & <dbl> & <dbl> & <dbl> & <dbl> & <dbl{[},1{]}> & <dbl{[},1{]}> & <dbl{[},1{]}>\\\\\n",
       "\\hline\n",
       "\t Strepsirrhine    & Eulemur fulvus     & 0.49 & 16.60 & 15.42 & 67.98 & 1.95 & 55.16 & -0.9400408 & -1.2172427 & 1.3072619\\\\\n",
       "\t Strepsirrhine    & E macaco           & 0.51 & 19.27 & 16.91 & 63.82 & 2.09 &    NA & -0.8161263 & -1.0303552 & 1.0112855\\\\\n",
       "\t Strepsirrhine    & E mongoz           & 0.46 & 14.11 & 16.85 & 69.04 & 2.51 &    NA & -1.1259125 & -1.3915310 & 1.3826790\\\\\n",
       "\t Strepsirrhine    & E rubriventer      & 0.48 & 14.91 & 13.18 & 71.91 & 1.62 &    NA & -1.0019980 & -1.3355347 & 1.5868743\\\\\n",
       "\t Strepsirrhine    & Lemur catta        & 0.60 & 27.28 & 19.50 & 53.22 & 2.19 &    NA & -0.2585112 & -0.4696927 & 0.2571148\\\\\n",
       "\t New World Monkey & Alouatta seniculus & 0.47 & 21.22 & 23.58 & 55.20 & 5.25 & 64.54 & -1.0639553 & -0.8938643 & 0.3979882\\\\\n",
       "\\end{tabular}\n"
      ],
      "text/markdown": [
       "\n",
       "A data.frame: 6 × 11\n",
       "\n",
       "| clade &lt;fct&gt; | species &lt;fct&gt; | kcal.per.g &lt;dbl&gt; | perc.fat &lt;dbl&gt; | perc.protein &lt;dbl&gt; | perc.lactose &lt;dbl&gt; | mass &lt;dbl&gt; | neocortex.perc &lt;dbl&gt; | K &lt;dbl[,1]&gt; | F &lt;dbl[,1]&gt; | L &lt;dbl[,1]&gt; |\n",
       "|---|---|---|---|---|---|---|---|---|---|---|\n",
       "| Strepsirrhine    | Eulemur fulvus     | 0.49 | 16.60 | 15.42 | 67.98 | 1.95 | 55.16 | -0.9400408 | -1.2172427 | 1.3072619 |\n",
       "| Strepsirrhine    | E macaco           | 0.51 | 19.27 | 16.91 | 63.82 | 2.09 |    NA | -0.8161263 | -1.0303552 | 1.0112855 |\n",
       "| Strepsirrhine    | E mongoz           | 0.46 | 14.11 | 16.85 | 69.04 | 2.51 |    NA | -1.1259125 | -1.3915310 | 1.3826790 |\n",
       "| Strepsirrhine    | E rubriventer      | 0.48 | 14.91 | 13.18 | 71.91 | 1.62 |    NA | -1.0019980 | -1.3355347 | 1.5868743 |\n",
       "| Strepsirrhine    | Lemur catta        | 0.60 | 27.28 | 19.50 | 53.22 | 2.19 |    NA | -0.2585112 | -0.4696927 | 0.2571148 |\n",
       "| New World Monkey | Alouatta seniculus | 0.47 | 21.22 | 23.58 | 55.20 | 5.25 | 64.54 | -1.0639553 | -0.8938643 | 0.3979882 |\n",
       "\n"
      ],
      "text/plain": [
       "  clade            species            kcal.per.g perc.fat perc.protein\n",
       "1 Strepsirrhine    Eulemur fulvus     0.49       16.60    15.42       \n",
       "2 Strepsirrhine    E macaco           0.51       19.27    16.91       \n",
       "3 Strepsirrhine    E mongoz           0.46       14.11    16.85       \n",
       "4 Strepsirrhine    E rubriventer      0.48       14.91    13.18       \n",
       "5 Strepsirrhine    Lemur catta        0.60       27.28    19.50       \n",
       "6 New World Monkey Alouatta seniculus 0.47       21.22    23.58       \n",
       "  perc.lactose mass neocortex.perc K          F          L        \n",
       "1 67.98        1.95 55.16          -0.9400408 -1.2172427 1.3072619\n",
       "2 63.82        2.09    NA          -0.8161263 -1.0303552 1.0112855\n",
       "3 69.04        2.51    NA          -1.1259125 -1.3915310 1.3826790\n",
       "4 71.91        1.62    NA          -1.0019980 -1.3355347 1.5868743\n",
       "5 53.22        2.19    NA          -0.2585112 -0.4696927 0.2571148\n",
       "6 55.20        5.25 64.54          -1.0639553 -0.8938643 0.3979882"
      ]
     },
     "metadata": {},
     "output_type": "display_data"
    }
   ],
   "source": [
    "library(rethinking)\n",
    "data(milk)\n",
    "d <- milk\n",
    "d$K <- scale( d$kcal.per.g )\n",
    "d$F <- scale( d$perc.fat )\n",
    "d$L <- scale( d$perc.lactose )\n",
    "\n",
    "head(d)"
   ]
  },
  {
   "cell_type": "code",
   "execution_count": 11,
   "metadata": {},
   "outputs": [
    {
     "data": {
      "text/html": [
       "<table>\n",
       "<caption>A precis: 3 × 4</caption>\n",
       "<thead>\n",
       "\t<tr><th></th><th scope=col>mean</th><th scope=col>sd</th><th scope=col>5.5%</th><th scope=col>94.5%</th></tr>\n",
       "\t<tr><th></th><th scope=col>&lt;dbl&gt;</th><th scope=col>&lt;dbl&gt;</th><th scope=col>&lt;dbl&gt;</th><th scope=col>&lt;dbl&gt;</th></tr>\n",
       "</thead>\n",
       "<tbody>\n",
       "\t<tr><th scope=row>a</th><td>1.535526e-07</td><td>0.07725195</td><td>-0.1234634</td><td>0.1234637</td></tr>\n",
       "\t<tr><th scope=row>bF</th><td>8.618970e-01</td><td>0.08426088</td><td> 0.7272318</td><td>0.9965621</td></tr>\n",
       "\t<tr><th scope=row>sigma</th><td>4.510179e-01</td><td>0.05870756</td><td> 0.3571919</td><td>0.5448440</td></tr>\n",
       "</tbody>\n",
       "</table>\n"
      ],
      "text/latex": [
       "A precis: 3 × 4\n",
       "\\begin{tabular}{r|llll}\n",
       "  & mean & sd & 5.5\\% & 94.5\\%\\\\\n",
       "  & <dbl> & <dbl> & <dbl> & <dbl>\\\\\n",
       "\\hline\n",
       "\ta & 1.535526e-07 & 0.07725195 & -0.1234634 & 0.1234637\\\\\n",
       "\tbF & 8.618970e-01 & 0.08426088 &  0.7272318 & 0.9965621\\\\\n",
       "\tsigma & 4.510179e-01 & 0.05870756 &  0.3571919 & 0.5448440\\\\\n",
       "\\end{tabular}\n"
      ],
      "text/markdown": [
       "\n",
       "A precis: 3 × 4\n",
       "\n",
       "| <!--/--> | mean &lt;dbl&gt; | sd &lt;dbl&gt; | 5.5% &lt;dbl&gt; | 94.5% &lt;dbl&gt; |\n",
       "|---|---|---|---|---|\n",
       "| a | 1.535526e-07 | 0.07725195 | -0.1234634 | 0.1234637 |\n",
       "| bF | 8.618970e-01 | 0.08426088 |  0.7272318 | 0.9965621 |\n",
       "| sigma | 4.510179e-01 | 0.05870756 |  0.3571919 | 0.5448440 |\n",
       "\n"
      ],
      "text/plain": [
       "      mean         sd         5.5%       94.5%    \n",
       "a     1.535526e-07 0.07725195 -0.1234634 0.1234637\n",
       "bF    8.618970e-01 0.08426088  0.7272318 0.9965621\n",
       "sigma 4.510179e-01 0.05870756  0.3571919 0.5448440"
      ]
     },
     "metadata": {},
     "output_type": "display_data"
    },
    {
     "data": {
      "text/html": [
       "<table>\n",
       "<caption>A precis: 3 × 4</caption>\n",
       "<thead>\n",
       "\t<tr><th></th><th scope=col>mean</th><th scope=col>sd</th><th scope=col>5.5%</th><th scope=col>94.5%</th></tr>\n",
       "\t<tr><th></th><th scope=col>&lt;dbl&gt;</th><th scope=col>&lt;dbl&gt;</th><th scope=col>&lt;dbl&gt;</th><th scope=col>&lt;dbl&gt;</th></tr>\n",
       "</thead>\n",
       "<tbody>\n",
       "\t<tr><th scope=row>a</th><td> 7.438895e-07</td><td>0.06661633</td><td>-0.1064650</td><td> 0.1064665</td></tr>\n",
       "\t<tr><th scope=row>bL</th><td>-9.024550e-01</td><td>0.07132848</td><td>-1.0164517</td><td>-0.7884583</td></tr>\n",
       "\t<tr><th scope=row>sigma</th><td> 3.804653e-01</td><td>0.04958259</td><td> 0.3012227</td><td> 0.4597078</td></tr>\n",
       "</tbody>\n",
       "</table>\n"
      ],
      "text/latex": [
       "A precis: 3 × 4\n",
       "\\begin{tabular}{r|llll}\n",
       "  & mean & sd & 5.5\\% & 94.5\\%\\\\\n",
       "  & <dbl> & <dbl> & <dbl> & <dbl>\\\\\n",
       "\\hline\n",
       "\ta &  7.438895e-07 & 0.06661633 & -0.1064650 &  0.1064665\\\\\n",
       "\tbL & -9.024550e-01 & 0.07132848 & -1.0164517 & -0.7884583\\\\\n",
       "\tsigma &  3.804653e-01 & 0.04958259 &  0.3012227 &  0.4597078\\\\\n",
       "\\end{tabular}\n"
      ],
      "text/markdown": [
       "\n",
       "A precis: 3 × 4\n",
       "\n",
       "| <!--/--> | mean &lt;dbl&gt; | sd &lt;dbl&gt; | 5.5% &lt;dbl&gt; | 94.5% &lt;dbl&gt; |\n",
       "|---|---|---|---|---|\n",
       "| a |  7.438895e-07 | 0.06661633 | -0.1064650 |  0.1064665 |\n",
       "| bL | -9.024550e-01 | 0.07132848 | -1.0164517 | -0.7884583 |\n",
       "| sigma |  3.804653e-01 | 0.04958259 |  0.3012227 |  0.4597078 |\n",
       "\n"
      ],
      "text/plain": [
       "      mean          sd         5.5%       94.5%     \n",
       "a      7.438895e-07 0.06661633 -0.1064650  0.1064665\n",
       "bL    -9.024550e-01 0.07132848 -1.0164517 -0.7884583\n",
       "sigma  3.804653e-01 0.04958259  0.3012227  0.4597078"
      ]
     },
     "metadata": {},
     "output_type": "display_data"
    }
   ],
   "source": [
    "# kcal.per.g regressed on perc.fat\n",
    "m6.3 <- quap(\n",
    "alist(\n",
    "K ~ dnorm( mu , sigma ) ,\n",
    "mu <- a + bF*F ,\n",
    "a ~ dnorm( 0 , 0.2 ) ,\n",
    "bF ~ dnorm( 0 , 0.5 ) ,\n",
    "sigma ~ dexp( 1 )\n",
    ") , data=d )\n",
    "\n",
    "# kcal.per.g regressed on perc.lactose\n",
    "m6.4 <- quap(\n",
    "alist(\n",
    "K ~ dnorm( mu , sigma ) ,\n",
    "mu <- a + bL*L ,\n",
    "a ~ dnorm( 0 , 0.2 ) ,\n",
    "bL ~ dnorm( 0 , 0.5 ) ,\n",
    "sigma ~ dexp( 1 )\n",
    ") , data=d )\n",
    "\n",
    "precis( m6.3 )\n",
    "precis( m6.4 )"
   ]
  },
  {
   "cell_type": "code",
   "execution_count": 12,
   "metadata": {},
   "outputs": [
    {
     "data": {
      "text/html": [
       "<table>\n",
       "<caption>A precis: 4 × 4</caption>\n",
       "<thead>\n",
       "\t<tr><th></th><th scope=col>mean</th><th scope=col>sd</th><th scope=col>5.5%</th><th scope=col>94.5%</th></tr>\n",
       "\t<tr><th></th><th scope=col>&lt;dbl&gt;</th><th scope=col>&lt;dbl&gt;</th><th scope=col>&lt;dbl&gt;</th><th scope=col>&lt;dbl&gt;</th></tr>\n",
       "</thead>\n",
       "<tbody>\n",
       "\t<tr><th scope=row>a</th><td>-3.172136e-07</td><td>0.06603577</td><td>-0.10553823</td><td> 0.1055376</td></tr>\n",
       "\t<tr><th scope=row>bF</th><td> 2.434983e-01</td><td>0.18357865</td><td>-0.04989579</td><td> 0.5368925</td></tr>\n",
       "\t<tr><th scope=row>bL</th><td>-6.780825e-01</td><td>0.18377670</td><td>-0.97179320</td><td>-0.3843719</td></tr>\n",
       "\t<tr><th scope=row>sigma</th><td> 3.767418e-01</td><td>0.04918394</td><td> 0.29813637</td><td> 0.4553472</td></tr>\n",
       "</tbody>\n",
       "</table>\n"
      ],
      "text/latex": [
       "A precis: 4 × 4\n",
       "\\begin{tabular}{r|llll}\n",
       "  & mean & sd & 5.5\\% & 94.5\\%\\\\\n",
       "  & <dbl> & <dbl> & <dbl> & <dbl>\\\\\n",
       "\\hline\n",
       "\ta & -3.172136e-07 & 0.06603577 & -0.10553823 &  0.1055376\\\\\n",
       "\tbF &  2.434983e-01 & 0.18357865 & -0.04989579 &  0.5368925\\\\\n",
       "\tbL & -6.780825e-01 & 0.18377670 & -0.97179320 & -0.3843719\\\\\n",
       "\tsigma &  3.767418e-01 & 0.04918394 &  0.29813637 &  0.4553472\\\\\n",
       "\\end{tabular}\n"
      ],
      "text/markdown": [
       "\n",
       "A precis: 4 × 4\n",
       "\n",
       "| <!--/--> | mean &lt;dbl&gt; | sd &lt;dbl&gt; | 5.5% &lt;dbl&gt; | 94.5% &lt;dbl&gt; |\n",
       "|---|---|---|---|---|\n",
       "| a | -3.172136e-07 | 0.06603577 | -0.10553823 |  0.1055376 |\n",
       "| bF |  2.434983e-01 | 0.18357865 | -0.04989579 |  0.5368925 |\n",
       "| bL | -6.780825e-01 | 0.18377670 | -0.97179320 | -0.3843719 |\n",
       "| sigma |  3.767418e-01 | 0.04918394 |  0.29813637 |  0.4553472 |\n",
       "\n"
      ],
      "text/plain": [
       "      mean          sd         5.5%        94.5%     \n",
       "a     -3.172136e-07 0.06603577 -0.10553823  0.1055376\n",
       "bF     2.434983e-01 0.18357865 -0.04989579  0.5368925\n",
       "bL    -6.780825e-01 0.18377670 -0.97179320 -0.3843719\n",
       "sigma  3.767418e-01 0.04918394  0.29813637  0.4553472"
      ]
     },
     "metadata": {},
     "output_type": "display_data"
    }
   ],
   "source": [
    "m6.5 <- quap(\n",
    "alist(\n",
    "K ~ dnorm( mu , sigma ) ,\n",
    "mu <- a + bF*F + bL*L ,\n",
    "a ~ dnorm( 0 , 0.2 ) ,\n",
    "bF ~ dnorm( 0 , 0.5 ) ,\n",
    "bL ~ dnorm( 0 , 0.5 ) ,\n",
    "sigma ~ dexp( 1 )\n",
    ") ,\n",
    "data=d )\n",
    "\n",
    "precis( m6.5 )"
   ]
  },
  {
   "cell_type": "code",
   "execution_count": 13,
   "metadata": {},
   "outputs": [
    {
     "data": {
      "image/png": "[encoded data removed]",
      "text/plain": [
       "plot without title"
      ]
     },
     "metadata": {},
     "output_type": "display_data"
    }
   ],
   "source": [
    "pairs( ~ kcal.per.g + perc.fat + perc.lactose , data=d , col=rangi2 )"
   ]
  },
  {
   "cell_type": "code",
   "execution_count": 14,
   "metadata": {},
   "outputs": [
    {
     "data": {
      "text/html": [
       "-0.941637345683928"
      ],
      "text/latex": [
       "-0.941637345683928"
      ],
      "text/markdown": [
       "-0.941637345683928"
      ],
      "text/plain": [
       "[1] -0.9416373"
      ]
     },
     "metadata": {},
     "output_type": "display_data"
    }
   ],
   "source": [
    "cor( d$perc.fat , d$perc.lactose )"
   ]
  },
  {
   "cell_type": "code",
   "execution_count": 15,
   "metadata": {},
   "outputs": [
    {
     "data": {
      "image/png": "[encoded data removed]",
      "text/plain": [
       "plot without title"
      ]
     },
     "metadata": {},
     "output_type": "display_data"
    }
   ],
   "source": [
    "library(rethinking)\n",
    "\n",
    "data(milk)\n",
    "d <- milk\n",
    "\n",
    "sim.coll <- function( r=0.9 ) {\n",
    "    d$x <- rnorm( nrow(d) , mean=r*d$perc.fat , sd=sqrt( (1-r^2)*var(d$perc.fat) ) )\n",
    "    m <- lm( kcal.per.g ~ perc.fat + x , data=d )\n",
    "    sqrt( diag( vcov(m) ) )[2] # stddev of parameter\n",
    "}\n",
    "\n",
    "rep.sim.coll <- function( r=0.9 , n=100 ) {\n",
    "    stddev <- replicate( n , sim.coll(r) )\n",
    "    mean(stddev)\n",
    "}\n",
    "\n",
    "r.seq <- seq(from=0,to=0.99,by=0.01)\n",
    "stddev <- sapply( r.seq , function(z) rep.sim.coll(r=z,n=100) )\n",
    "\n",
    "plot( stddev ~ r.seq , type=\"l\" , col=rangi2, lwd=2 , xlab=\"correlation\" )"
   ]
  },
  {
   "cell_type": "code",
   "execution_count": 16,
   "metadata": {},
   "outputs": [],
   "source": [
    "set.seed(71)\n",
    "# number of plants\n",
    "N <- 100\n",
    "# simulate initial heights\n",
    "h0 <- rnorm(N,10,2)\n",
    "# assign treatments and simulate fungus and growth\n",
    "treatment <- rep( 0:1 , each=N/2 )\n",
    "fungus <- rbinom( N , size=1 , prob=0.5 - treatment*0.4 )\n",
    "h1 <- h0 + rnorm(N, 5 - 3*fungus)\n",
    "# compose a clean data frame\n",
    "d <- data.frame( h0=h0 , h1=h1 , treatment=treatment , fungus=fungus )"
   ]
  },
  {
   "cell_type": "code",
   "execution_count": 17,
   "metadata": {},
   "outputs": [
    {
     "data": {
      "text/html": [
       "<table>\n",
       "<caption>A data.frame: 6 × 4</caption>\n",
       "<thead>\n",
       "\t<tr><th scope=col>h0</th><th scope=col>h1</th><th scope=col>treatment</th><th scope=col>fungus</th></tr>\n",
       "\t<tr><th scope=col>&lt;dbl&gt;</th><th scope=col>&lt;dbl&gt;</th><th scope=col>&lt;int&gt;</th><th scope=col>&lt;int&gt;</th></tr>\n",
       "</thead>\n",
       "<tbody>\n",
       "\t<tr><td> 9.136316</td><td>14.34579</td><td>0</td><td>0</td></tr>\n",
       "\t<tr><td> 9.105626</td><td>15.62392</td><td>0</td><td>0</td></tr>\n",
       "\t<tr><td> 9.042855</td><td>14.38667</td><td>0</td><td>0</td></tr>\n",
       "\t<tr><td>10.834291</td><td>15.83742</td><td>0</td><td>0</td></tr>\n",
       "\t<tr><td> 9.164199</td><td>11.46912</td><td>0</td><td>1</td></tr>\n",
       "\t<tr><td> 7.625672</td><td>11.10776</td><td>0</td><td>0</td></tr>\n",
       "</tbody>\n",
       "</table>\n"
      ],
      "text/latex": [
       "A data.frame: 6 × 4\n",
       "\\begin{tabular}{r|llll}\n",
       " h0 & h1 & treatment & fungus\\\\\n",
       " <dbl> & <dbl> & <int> & <int>\\\\\n",
       "\\hline\n",
       "\t  9.136316 & 14.34579 & 0 & 0\\\\\n",
       "\t  9.105626 & 15.62392 & 0 & 0\\\\\n",
       "\t  9.042855 & 14.38667 & 0 & 0\\\\\n",
       "\t 10.834291 & 15.83742 & 0 & 0\\\\\n",
       "\t  9.164199 & 11.46912 & 0 & 1\\\\\n",
       "\t  7.625672 & 11.10776 & 0 & 0\\\\\n",
       "\\end{tabular}\n"
      ],
      "text/markdown": [
       "\n",
       "A data.frame: 6 × 4\n",
       "\n",
       "| h0 &lt;dbl&gt; | h1 &lt;dbl&gt; | treatment &lt;int&gt; | fungus &lt;int&gt; |\n",
       "|---|---|---|---|\n",
       "|  9.136316 | 14.34579 | 0 | 0 |\n",
       "|  9.105626 | 15.62392 | 0 | 0 |\n",
       "|  9.042855 | 14.38667 | 0 | 0 |\n",
       "| 10.834291 | 15.83742 | 0 | 0 |\n",
       "|  9.164199 | 11.46912 | 0 | 1 |\n",
       "|  7.625672 | 11.10776 | 0 | 0 |\n",
       "\n"
      ],
      "text/plain": [
       "  h0        h1       treatment fungus\n",
       "1  9.136316 14.34579 0         0     \n",
       "2  9.105626 15.62392 0         0     \n",
       "3  9.042855 14.38667 0         0     \n",
       "4 10.834291 15.83742 0         0     \n",
       "5  9.164199 11.46912 0         1     \n",
       "6  7.625672 11.10776 0         0     "
      ]
     },
     "metadata": {},
     "output_type": "display_data"
    }
   ],
   "source": [
    "head(d)"
   ]
  },
  {
   "cell_type": "code",
   "execution_count": 18,
   "metadata": {},
   "outputs": [
    {
     "data": {
      "text/html": [
       "<table>\n",
       "<caption>A precis: 4 × 5</caption>\n",
       "<thead>\n",
       "\t<tr><th></th><th scope=col>mean</th><th scope=col>sd</th><th scope=col>5.5%</th><th scope=col>94.5%</th><th scope=col>histogram</th></tr>\n",
       "\t<tr><th></th><th scope=col>&lt;dbl&gt;</th><th scope=col>&lt;dbl&gt;</th><th scope=col>&lt;dbl&gt;</th><th scope=col>&lt;dbl&gt;</th><th scope=col>&lt;chr&gt;</th></tr>\n",
       "</thead>\n",
       "<tbody>\n",
       "\t<tr><th scope=row>h0</th><td> 9.95978</td><td>2.1011623</td><td> 6.570328</td><td>13.07874</td><td>▁▂▂▂▇▃▂▃▁▁▁▁</td></tr>\n",
       "\t<tr><th scope=row>h1</th><td>14.39920</td><td>2.6880870</td><td>10.618002</td><td>17.93369</td><td>▁▁▃▇▇▇▁▁    </td></tr>\n",
       "\t<tr><th scope=row>treatment</th><td> 0.50000</td><td>0.5025189</td><td> 0.000000</td><td> 1.00000</td><td>▇▁▁▁▁▁▁▁▁▇  </td></tr>\n",
       "\t<tr><th scope=row>fungus</th><td> 0.23000</td><td>0.4229526</td><td> 0.000000</td><td> 1.00000</td><td>▇▁▁▁▁▁▁▁▁▂  </td></tr>\n",
       "</tbody>\n",
       "</table>\n"
      ],
      "text/latex": [
       "A precis: 4 × 5\n",
       "\\begin{tabular}{r|lllll}\n",
       "  & mean & sd & 5.5\\% & 94.5\\% & histogram\\\\\n",
       "  & <dbl> & <dbl> & <dbl> & <dbl> & <chr>\\\\\n",
       "\\hline\n",
       "\th0 &  9.95978 & 2.1011623 &  6.570328 & 13.07874 & ▁▂▂▂▇▃▂▃▁▁▁▁\\\\\n",
       "\th1 & 14.39920 & 2.6880870 & 10.618002 & 17.93369 & ▁▁▃▇▇▇▁▁    \\\\\n",
       "\ttreatment &  0.50000 & 0.5025189 &  0.000000 &  1.00000 & ▇▁▁▁▁▁▁▁▁▇  \\\\\n",
       "\tfungus &  0.23000 & 0.4229526 &  0.000000 &  1.00000 & ▇▁▁▁▁▁▁▁▁▂  \\\\\n",
       "\\end{tabular}\n"
      ],
      "text/markdown": [
       "\n",
       "A precis: 4 × 5\n",
       "\n",
       "| <!--/--> | mean &lt;dbl&gt; | sd &lt;dbl&gt; | 5.5% &lt;dbl&gt; | 94.5% &lt;dbl&gt; | histogram &lt;chr&gt; |\n",
       "|---|---|---|---|---|---|\n",
       "| h0 |  9.95978 | 2.1011623 |  6.570328 | 13.07874 | ▁▂▂▂▇▃▂▃▁▁▁▁ |\n",
       "| h1 | 14.39920 | 2.6880870 | 10.618002 | 17.93369 | ▁▁▃▇▇▇▁▁     |\n",
       "| treatment |  0.50000 | 0.5025189 |  0.000000 |  1.00000 | ▇▁▁▁▁▁▁▁▁▇   |\n",
       "| fungus |  0.23000 | 0.4229526 |  0.000000 |  1.00000 | ▇▁▁▁▁▁▁▁▁▂   |\n",
       "\n"
      ],
      "text/plain": [
       "          mean     sd        5.5%      94.5%    histogram   \n",
       "h0         9.95978 2.1011623  6.570328 13.07874 ▁▂▂▂▇▃▂▃▁▁▁▁\n",
       "h1        14.39920 2.6880870 10.618002 17.93369 ▁▁▃▇▇▇▁▁    \n",
       "treatment  0.50000 0.5025189  0.000000  1.00000 ▇▁▁▁▁▁▁▁▁▇  \n",
       "fungus     0.23000 0.4229526  0.000000  1.00000 ▇▁▁▁▁▁▁▁▁▂  "
      ]
     },
     "metadata": {},
     "output_type": "display_data"
    }
   ],
   "source": [
    "precis(d)"
   ]
  },
  {
   "cell_type": "code",
   "execution_count": 19,
   "metadata": {},
   "outputs": [
    {
     "data": {
      "text/html": [
       "<table>\n",
       "<caption>A precis: 1 × 5</caption>\n",
       "<thead>\n",
       "\t<tr><th></th><th scope=col>mean</th><th scope=col>sd</th><th scope=col>5.5%</th><th scope=col>94.5%</th><th scope=col>histogram</th></tr>\n",
       "\t<tr><th></th><th scope=col>&lt;dbl&gt;</th><th scope=col>&lt;dbl&gt;</th><th scope=col>&lt;dbl&gt;</th><th scope=col>&lt;dbl&gt;</th><th scope=col>&lt;chr&gt;</th></tr>\n",
       "</thead>\n",
       "<tbody>\n",
       "\t<tr><th scope=row>sim_p</th><td>1.03699</td><td>0.2629894</td><td>0.670683</td><td>1.496397</td><td>▁▁▃▇▇▃▁▁▁▁▁▁</td></tr>\n",
       "</tbody>\n",
       "</table>\n"
      ],
      "text/latex": [
       "A precis: 1 × 5\n",
       "\\begin{tabular}{r|lllll}\n",
       "  & mean & sd & 5.5\\% & 94.5\\% & histogram\\\\\n",
       "  & <dbl> & <dbl> & <dbl> & <dbl> & <chr>\\\\\n",
       "\\hline\n",
       "\tsim\\_p & 1.03699 & 0.2629894 & 0.670683 & 1.496397 & ▁▁▃▇▇▃▁▁▁▁▁▁\\\\\n",
       "\\end{tabular}\n"
      ],
      "text/markdown": [
       "\n",
       "A precis: 1 × 5\n",
       "\n",
       "| <!--/--> | mean &lt;dbl&gt; | sd &lt;dbl&gt; | 5.5% &lt;dbl&gt; | 94.5% &lt;dbl&gt; | histogram &lt;chr&gt; |\n",
       "|---|---|---|---|---|---|\n",
       "| sim_p | 1.03699 | 0.2629894 | 0.670683 | 1.496397 | ▁▁▃▇▇▃▁▁▁▁▁▁ |\n",
       "\n"
      ],
      "text/plain": [
       "      mean    sd        5.5%     94.5%    histogram   \n",
       "sim_p 1.03699 0.2629894 0.670683 1.496397 ▁▁▃▇▇▃▁▁▁▁▁▁"
      ]
     },
     "metadata": {},
     "output_type": "display_data"
    }
   ],
   "source": [
    "sim_p <- rlnorm( 1e4 , 0 , 0.25 )\n",
    "precis( data.frame(sim_p) )"
   ]
  },
  {
   "cell_type": "code",
   "execution_count": 20,
   "metadata": {},
   "outputs": [
    {
     "data": {
      "text/html": [
       "<table>\n",
       "<caption>A precis: 2 × 4</caption>\n",
       "<thead>\n",
       "\t<tr><th></th><th scope=col>mean</th><th scope=col>sd</th><th scope=col>5.5%</th><th scope=col>94.5%</th></tr>\n",
       "\t<tr><th></th><th scope=col>&lt;dbl&gt;</th><th scope=col>&lt;dbl&gt;</th><th scope=col>&lt;dbl&gt;</th><th scope=col>&lt;dbl&gt;</th></tr>\n",
       "</thead>\n",
       "<tbody>\n",
       "\t<tr><th scope=row>p</th><td>1.426626</td><td>0.01760992</td><td>1.398482</td><td>1.454770</td></tr>\n",
       "\t<tr><th scope=row>sigma</th><td>1.793286</td><td>0.12517262</td><td>1.593236</td><td>1.993336</td></tr>\n",
       "</tbody>\n",
       "</table>\n"
      ],
      "text/latex": [
       "A precis: 2 × 4\n",
       "\\begin{tabular}{r|llll}\n",
       "  & mean & sd & 5.5\\% & 94.5\\%\\\\\n",
       "  & <dbl> & <dbl> & <dbl> & <dbl>\\\\\n",
       "\\hline\n",
       "\tp & 1.426626 & 0.01760992 & 1.398482 & 1.454770\\\\\n",
       "\tsigma & 1.793286 & 0.12517262 & 1.593236 & 1.993336\\\\\n",
       "\\end{tabular}\n"
      ],
      "text/markdown": [
       "\n",
       "A precis: 2 × 4\n",
       "\n",
       "| <!--/--> | mean &lt;dbl&gt; | sd &lt;dbl&gt; | 5.5% &lt;dbl&gt; | 94.5% &lt;dbl&gt; |\n",
       "|---|---|---|---|---|\n",
       "| p | 1.426626 | 0.01760992 | 1.398482 | 1.454770 |\n",
       "| sigma | 1.793286 | 0.12517262 | 1.593236 | 1.993336 |\n",
       "\n"
      ],
      "text/plain": [
       "      mean     sd         5.5%     94.5%   \n",
       "p     1.426626 0.01760992 1.398482 1.454770\n",
       "sigma 1.793286 0.12517262 1.593236 1.993336"
      ]
     },
     "metadata": {},
     "output_type": "display_data"
    }
   ],
   "source": [
    "m6.6 <- quap(\n",
    "    alist(\n",
    "    h1 ~ dnorm( mu , sigma ),\n",
    "    mu <- h0*p,\n",
    "    p ~ dlnorm( 0 , 0.25 ),\n",
    "    sigma ~ dexp( 1 )\n",
    "    ), data=d )\n",
    "\n",
    "precis(m6.6)"
   ]
  },
  {
   "cell_type": "code",
   "execution_count": 21,
   "metadata": {},
   "outputs": [
    {
     "data": {
      "text/html": [
       "<table>\n",
       "<caption>A precis: 4 × 4</caption>\n",
       "<thead>\n",
       "\t<tr><th></th><th scope=col>mean</th><th scope=col>sd</th><th scope=col>5.5%</th><th scope=col>94.5%</th></tr>\n",
       "\t<tr><th></th><th scope=col>&lt;dbl&gt;</th><th scope=col>&lt;dbl&gt;</th><th scope=col>&lt;dbl&gt;</th><th scope=col>&lt;dbl&gt;</th></tr>\n",
       "</thead>\n",
       "<tbody>\n",
       "\t<tr><th scope=row>a</th><td> 1.481391468</td><td>0.02451069</td><td> 1.44221865</td><td> 1.52056429</td></tr>\n",
       "\t<tr><th scope=row>bt</th><td> 0.002412222</td><td>0.02986965</td><td>-0.04532525</td><td> 0.05014969</td></tr>\n",
       "\t<tr><th scope=row>bf</th><td>-0.266718915</td><td>0.03654772</td><td>-0.32512923</td><td>-0.20830860</td></tr>\n",
       "\t<tr><th scope=row>sigma</th><td> 1.408797442</td><td>0.09862070</td><td> 1.25118251</td><td> 1.56641237</td></tr>\n",
       "</tbody>\n",
       "</table>\n"
      ],
      "text/latex": [
       "A precis: 4 × 4\n",
       "\\begin{tabular}{r|llll}\n",
       "  & mean & sd & 5.5\\% & 94.5\\%\\\\\n",
       "  & <dbl> & <dbl> & <dbl> & <dbl>\\\\\n",
       "\\hline\n",
       "\ta &  1.481391468 & 0.02451069 &  1.44221865 &  1.52056429\\\\\n",
       "\tbt &  0.002412222 & 0.02986965 & -0.04532525 &  0.05014969\\\\\n",
       "\tbf & -0.266718915 & 0.03654772 & -0.32512923 & -0.20830860\\\\\n",
       "\tsigma &  1.408797442 & 0.09862070 &  1.25118251 &  1.56641237\\\\\n",
       "\\end{tabular}\n"
      ],
      "text/markdown": [
       "\n",
       "A precis: 4 × 4\n",
       "\n",
       "| <!--/--> | mean &lt;dbl&gt; | sd &lt;dbl&gt; | 5.5% &lt;dbl&gt; | 94.5% &lt;dbl&gt; |\n",
       "|---|---|---|---|---|\n",
       "| a |  1.481391468 | 0.02451069 |  1.44221865 |  1.52056429 |\n",
       "| bt |  0.002412222 | 0.02986965 | -0.04532525 |  0.05014969 |\n",
       "| bf | -0.266718915 | 0.03654772 | -0.32512923 | -0.20830860 |\n",
       "| sigma |  1.408797442 | 0.09862070 |  1.25118251 |  1.56641237 |\n",
       "\n"
      ],
      "text/plain": [
       "      mean         sd         5.5%        94.5%      \n",
       "a      1.481391468 0.02451069  1.44221865  1.52056429\n",
       "bt     0.002412222 0.02986965 -0.04532525  0.05014969\n",
       "bf    -0.266718915 0.03654772 -0.32512923 -0.20830860\n",
       "sigma  1.408797442 0.09862070  1.25118251  1.56641237"
      ]
     },
     "metadata": {},
     "output_type": "display_data"
    }
   ],
   "source": [
    "m6.7 <- quap(\n",
    "    alist(\n",
    "    h1 ~ dnorm( mu , sigma ),\n",
    "    mu <- h0 * p,\n",
    "    p <- a + bt*treatment + bf*fungus,\n",
    "    a ~ dlnorm( 0 , 0.2 ) ,\n",
    "    bt ~ dnorm( 0 , 0.5 ),\n",
    "    bf ~ dnorm( 0 , 0.5 ),\n",
    "    sigma ~ dexp( 1 )\n",
    "    ), data=d )\n",
    "\n",
    "precis(m6.7)"
   ]
  },
  {
   "cell_type": "code",
   "execution_count": 22,
   "metadata": {},
   "outputs": [
    {
     "data": {
      "text/html": [
       "<table>\n",
       "<caption>A precis: 3 × 4</caption>\n",
       "<thead>\n",
       "\t<tr><th></th><th scope=col>mean</th><th scope=col>sd</th><th scope=col>5.5%</th><th scope=col>94.5%</th></tr>\n",
       "\t<tr><th></th><th scope=col>&lt;dbl&gt;</th><th scope=col>&lt;dbl&gt;</th><th scope=col>&lt;dbl&gt;</th><th scope=col>&lt;dbl&gt;</th></tr>\n",
       "</thead>\n",
       "<tbody>\n",
       "\t<tr><th scope=row>a</th><td>1.38035767</td><td>0.02517554</td><td>1.34012229</td><td>1.4205931</td></tr>\n",
       "\t<tr><th scope=row>bt</th><td>0.08499924</td><td>0.03429718</td><td>0.03018573</td><td>0.1398128</td></tr>\n",
       "\t<tr><th scope=row>sigma</th><td>1.74631655</td><td>0.12191552</td><td>1.55147200</td><td>1.9411611</td></tr>\n",
       "</tbody>\n",
       "</table>\n"
      ],
      "text/latex": [
       "A precis: 3 × 4\n",
       "\\begin{tabular}{r|llll}\n",
       "  & mean & sd & 5.5\\% & 94.5\\%\\\\\n",
       "  & <dbl> & <dbl> & <dbl> & <dbl>\\\\\n",
       "\\hline\n",
       "\ta & 1.38035767 & 0.02517554 & 1.34012229 & 1.4205931\\\\\n",
       "\tbt & 0.08499924 & 0.03429718 & 0.03018573 & 0.1398128\\\\\n",
       "\tsigma & 1.74631655 & 0.12191552 & 1.55147200 & 1.9411611\\\\\n",
       "\\end{tabular}\n"
      ],
      "text/markdown": [
       "\n",
       "A precis: 3 × 4\n",
       "\n",
       "| <!--/--> | mean &lt;dbl&gt; | sd &lt;dbl&gt; | 5.5% &lt;dbl&gt; | 94.5% &lt;dbl&gt; |\n",
       "|---|---|---|---|---|\n",
       "| a | 1.38035767 | 0.02517554 | 1.34012229 | 1.4205931 |\n",
       "| bt | 0.08499924 | 0.03429718 | 0.03018573 | 0.1398128 |\n",
       "| sigma | 1.74631655 | 0.12191552 | 1.55147200 | 1.9411611 |\n",
       "\n"
      ],
      "text/plain": [
       "      mean       sd         5.5%       94.5%    \n",
       "a     1.38035767 0.02517554 1.34012229 1.4205931\n",
       "bt    0.08499924 0.03429718 0.03018573 0.1398128\n",
       "sigma 1.74631655 0.12191552 1.55147200 1.9411611"
      ]
     },
     "metadata": {},
     "output_type": "display_data"
    }
   ],
   "source": [
    "m6.8 <- quap(\n",
    "alist(\n",
    "h1 ~ dnorm( mu , sigma ),\n",
    "mu <- h0 * p,\n",
    "p <- a + bt*treatment,\n",
    "a ~ dlnorm( 0 , 0.2 ),\n",
    "bt ~ dnorm( 0 , 0.5 ),\n",
    "sigma ~ dexp( 1 )\n",
    "), data=d )\n",
    "\n",
    "precis(m6.8)"
   ]
  },
  {
   "cell_type": "code",
   "execution_count": 23,
   "metadata": {},
   "outputs": [
    {
     "data": {
      "image/png": "[encoded data removed]",
      "text/plain": [
       "plot without title"
      ]
     },
     "metadata": {},
     "output_type": "display_data"
    }
   ],
   "source": [
    "library(dagitty)\n",
    "\n",
    "plant_dag <- dagitty( \"dag {\n",
    "H0 -> H1\n",
    "F -> H1\n",
    "T -> F\n",
    "}\")\n",
    "\n",
    "coordinates( plant_dag ) <- list( x=c(H0=0,T=2,F=1.5,H1=1) , y=c(H0=0,T=0,F=1,H1=2) ) \n",
    "\n",
    "plot( plant_dag )"
   ]
  },
  {
   "cell_type": "code",
   "execution_count": 24,
   "metadata": {},
   "outputs": [
    {
     "data": {
      "text/html": [
       "FALSE"
      ],
      "text/latex": [
       "FALSE"
      ],
      "text/markdown": [
       "FALSE"
      ],
      "text/plain": [
       "[1] FALSE"
      ]
     },
     "metadata": {},
     "output_type": "display_data"
    },
    {
     "data": {
      "text/html": [
       "TRUE"
      ],
      "text/latex": [
       "TRUE"
      ],
      "text/markdown": [
       "TRUE"
      ],
      "text/plain": [
       "[1] TRUE"
      ]
     },
     "metadata": {},
     "output_type": "display_data"
    }
   ],
   "source": [
    "dseparated( plant_dag , \"T\" , \"H1\" )\n",
    "dseparated( plant_dag , \"T\" , \"H1\" , \"F\" )"
   ]
  },
  {
   "cell_type": "code",
   "execution_count": 25,
   "metadata": {},
   "outputs": [
    {
     "data": {
      "text/plain": [
       "F _||_ H0\n",
       "H0 _||_ T\n",
       "H1 _||_ T | F"
      ]
     },
     "metadata": {},
     "output_type": "display_data"
    }
   ],
   "source": [
    "impliedConditionalIndependencies( plant_dag )"
   ]
  },
  {
   "cell_type": "markdown",
   "metadata": {},
   "source": [
    "Code 6.22"
   ]
  },
  {
   "cell_type": "code",
   "execution_count": 1,
   "metadata": {},
   "outputs": [
    {
     "name": "stderr",
     "output_type": "stream",
     "text": [
      "Loading required package: rstan\n",
      "Loading required package: ggplot2\n",
      "Loading required package: StanHeaders\n",
      "rstan (Version 2.18.2, GitRev: 2e1f913d3ca3)\n",
      "For execution on a local, multicore CPU with excess RAM we recommend calling\n",
      "options(mc.cores = parallel::detectCores()).\n",
      "To avoid recompilation of unchanged Stan programs, we recommend calling\n",
      "rstan_options(auto_write = TRUE)\n",
      "Loading required package: parallel\n",
      "rethinking (Version 1.88)\n"
     ]
    },
    {
     "data": {
      "text/html": [
       "<table>\n",
       "<caption>A precis: 3 × 5</caption>\n",
       "<thead>\n",
       "\t<tr><th></th><th scope=col>mean</th><th scope=col>sd</th><th scope=col>5.5%</th><th scope=col>94.5%</th><th scope=col>histogram</th></tr>\n",
       "\t<tr><th></th><th scope=col>&lt;dbl&gt;</th><th scope=col>&lt;dbl&gt;</th><th scope=col>&lt;dbl&gt;</th><th scope=col>&lt;dbl&gt;</th><th scope=col>&lt;chr&gt;</th></tr>\n",
       "</thead>\n",
       "<tbody>\n",
       "\t<tr><th scope=row>age</th><td> 3.300000e+01</td><td>18.768883</td><td> 4.000000</td><td>62.000000</td><td>▇▇▇▇▇▇▇▇▇▇▇▇▇</td></tr>\n",
       "\t<tr><th scope=row>married</th><td> 3.007692e-01</td><td> 0.458769</td><td> 0.000000</td><td> 1.000000</td><td>▇▁▁▁▁▁▁▁▁▃   </td></tr>\n",
       "\t<tr><th scope=row>happiness</th><td>-1.000070e-16</td><td> 1.214421</td><td>-1.789474</td><td> 1.789474</td><td>▇▅▇▅▅▇▅▇     </td></tr>\n",
       "</tbody>\n",
       "</table>\n"
      ],
      "text/latex": [
       "A precis: 3 × 5\n",
       "\\begin{tabular}{r|lllll}\n",
       "  & mean & sd & 5.5\\% & 94.5\\% & histogram\\\\\n",
       "  & <dbl> & <dbl> & <dbl> & <dbl> & <chr>\\\\\n",
       "\\hline\n",
       "\tage &  3.300000e+01 & 18.768883 &  4.000000 & 62.000000 & ▇▇▇▇▇▇▇▇▇▇▇▇▇\\\\\n",
       "\tmarried &  3.007692e-01 &  0.458769 &  0.000000 &  1.000000 & ▇▁▁▁▁▁▁▁▁▃   \\\\\n",
       "\thappiness & -1.000070e-16 &  1.214421 & -1.789474 &  1.789474 & ▇▅▇▅▅▇▅▇     \\\\\n",
       "\\end{tabular}\n"
      ],
      "text/markdown": [
       "\n",
       "A precis: 3 × 5\n",
       "\n",
       "| <!--/--> | mean &lt;dbl&gt; | sd &lt;dbl&gt; | 5.5% &lt;dbl&gt; | 94.5% &lt;dbl&gt; | histogram &lt;chr&gt; |\n",
       "|---|---|---|---|---|---|\n",
       "| age |  3.300000e+01 | 18.768883 |  4.000000 | 62.000000 | ▇▇▇▇▇▇▇▇▇▇▇▇▇ |\n",
       "| married |  3.007692e-01 |  0.458769 |  0.000000 |  1.000000 | ▇▁▁▁▁▁▁▁▁▃    |\n",
       "| happiness | -1.000070e-16 |  1.214421 | -1.789474 |  1.789474 | ▇▅▇▅▅▇▅▇      |\n",
       "\n"
      ],
      "text/plain": [
       "          mean          sd        5.5%      94.5%     histogram    \n",
       "age        3.300000e+01 18.768883  4.000000 62.000000 ▇▇▇▇▇▇▇▇▇▇▇▇▇\n",
       "married    3.007692e-01  0.458769  0.000000  1.000000 ▇▁▁▁▁▁▁▁▁▃   \n",
       "happiness -1.000070e-16  1.214421 -1.789474  1.789474 ▇▅▇▅▅▇▅▇     "
      ]
     },
     "metadata": {},
     "output_type": "display_data"
    }
   ],
   "source": [
    "library(rethinking)\n",
    "d <- sim_happiness( seed=1977 , N_years=1000 )\n",
    "precis(d)"
   ]
  },
  {
   "cell_type": "code",
   "execution_count": 27,
   "metadata": {},
   "outputs": [],
   "source": [
    "d2 <- d[ d$age>17 , ] # only adults\n",
    "d2$A <- ( d2$age - 18 ) / ( 65 - 18 )"
   ]
  },
  {
   "cell_type": "code",
   "execution_count": 28,
   "metadata": {},
   "outputs": [
    {
     "data": {
      "text/html": [
       "<table>\n",
       "<caption>A precis: 4 × 4</caption>\n",
       "<thead>\n",
       "\t<tr><th></th><th scope=col>mean</th><th scope=col>sd</th><th scope=col>5.5%</th><th scope=col>94.5%</th></tr>\n",
       "\t<tr><th></th><th scope=col>&lt;dbl&gt;</th><th scope=col>&lt;dbl&gt;</th><th scope=col>&lt;dbl&gt;</th><th scope=col>&lt;dbl&gt;</th></tr>\n",
       "</thead>\n",
       "<tbody>\n",
       "\t<tr><th scope=row>a[1]</th><td>-0.2350877</td><td>0.06348986</td><td>-0.3365568</td><td>-0.1336186</td></tr>\n",
       "\t<tr><th scope=row>a[2]</th><td> 1.2585517</td><td>0.08495989</td><td> 1.1227694</td><td> 1.3943340</td></tr>\n",
       "\t<tr><th scope=row>bA</th><td>-0.7490274</td><td>0.11320112</td><td>-0.9299447</td><td>-0.5681102</td></tr>\n",
       "\t<tr><th scope=row>sigma</th><td> 0.9897080</td><td>0.02255800</td><td> 0.9536559</td><td> 1.0257600</td></tr>\n",
       "</tbody>\n",
       "</table>\n"
      ],
      "text/latex": [
       "A precis: 4 × 4\n",
       "\\begin{tabular}{r|llll}\n",
       "  & mean & sd & 5.5\\% & 94.5\\%\\\\\n",
       "  & <dbl> & <dbl> & <dbl> & <dbl>\\\\\n",
       "\\hline\n",
       "\ta{[}1{]} & -0.2350877 & 0.06348986 & -0.3365568 & -0.1336186\\\\\n",
       "\ta{[}2{]} &  1.2585517 & 0.08495989 &  1.1227694 &  1.3943340\\\\\n",
       "\tbA & -0.7490274 & 0.11320112 & -0.9299447 & -0.5681102\\\\\n",
       "\tsigma &  0.9897080 & 0.02255800 &  0.9536559 &  1.0257600\\\\\n",
       "\\end{tabular}\n"
      ],
      "text/markdown": [
       "\n",
       "A precis: 4 × 4\n",
       "\n",
       "| <!--/--> | mean &lt;dbl&gt; | sd &lt;dbl&gt; | 5.5% &lt;dbl&gt; | 94.5% &lt;dbl&gt; |\n",
       "|---|---|---|---|---|\n",
       "| a[1] | -0.2350877 | 0.06348986 | -0.3365568 | -0.1336186 |\n",
       "| a[2] |  1.2585517 | 0.08495989 |  1.1227694 |  1.3943340 |\n",
       "| bA | -0.7490274 | 0.11320112 | -0.9299447 | -0.5681102 |\n",
       "| sigma |  0.9897080 | 0.02255800 |  0.9536559 |  1.0257600 |\n",
       "\n"
      ],
      "text/plain": [
       "      mean       sd         5.5%       94.5%     \n",
       "a[1]  -0.2350877 0.06348986 -0.3365568 -0.1336186\n",
       "a[2]   1.2585517 0.08495989  1.1227694  1.3943340\n",
       "bA    -0.7490274 0.11320112 -0.9299447 -0.5681102\n",
       "sigma  0.9897080 0.02255800  0.9536559  1.0257600"
      ]
     },
     "metadata": {},
     "output_type": "display_data"
    }
   ],
   "source": [
    "d2$mid <- d2$married + 1\n",
    "\n",
    "m6.9 <- quap(\n",
    "    alist(\n",
    "    happiness ~ dnorm( mu , sigma ),\n",
    "    mu <- a[mid] + bA*A,\n",
    "    a[mid] ~ dnorm( 0 , 1 ),\n",
    "    bA ~ dnorm( 0 , 2 ),\n",
    "    sigma ~ dexp(1)\n",
    "    ) , data=d2 )\n",
    "\n",
    "precis(m6.9,depth=2)"
   ]
  },
  {
   "cell_type": "code",
   "execution_count": 29,
   "metadata": {},
   "outputs": [
    {
     "data": {
      "text/html": [
       "<table>\n",
       "<caption>A precis: 3 × 4</caption>\n",
       "<thead>\n",
       "\t<tr><th></th><th scope=col>mean</th><th scope=col>sd</th><th scope=col>5.5%</th><th scope=col>94.5%</th></tr>\n",
       "\t<tr><th></th><th scope=col>&lt;dbl&gt;</th><th scope=col>&lt;dbl&gt;</th><th scope=col>&lt;dbl&gt;</th><th scope=col>&lt;dbl&gt;</th></tr>\n",
       "</thead>\n",
       "<tbody>\n",
       "\t<tr><th scope=row>a</th><td> 1.649248e-07</td><td>0.07675015</td><td>-0.1226614</td><td>0.1226617</td></tr>\n",
       "\t<tr><th scope=row>bA</th><td>-2.728620e-07</td><td>0.13225976</td><td>-0.2113769</td><td>0.2113764</td></tr>\n",
       "\t<tr><th scope=row>sigma</th><td> 1.213188e+00</td><td>0.02766080</td><td> 1.1689803</td><td>1.2573949</td></tr>\n",
       "</tbody>\n",
       "</table>\n"
      ],
      "text/latex": [
       "A precis: 3 × 4\n",
       "\\begin{tabular}{r|llll}\n",
       "  & mean & sd & 5.5\\% & 94.5\\%\\\\\n",
       "  & <dbl> & <dbl> & <dbl> & <dbl>\\\\\n",
       "\\hline\n",
       "\ta &  1.649248e-07 & 0.07675015 & -0.1226614 & 0.1226617\\\\\n",
       "\tbA & -2.728620e-07 & 0.13225976 & -0.2113769 & 0.2113764\\\\\n",
       "\tsigma &  1.213188e+00 & 0.02766080 &  1.1689803 & 1.2573949\\\\\n",
       "\\end{tabular}\n"
      ],
      "text/markdown": [
       "\n",
       "A precis: 3 × 4\n",
       "\n",
       "| <!--/--> | mean &lt;dbl&gt; | sd &lt;dbl&gt; | 5.5% &lt;dbl&gt; | 94.5% &lt;dbl&gt; |\n",
       "|---|---|---|---|---|\n",
       "| a |  1.649248e-07 | 0.07675015 | -0.1226614 | 0.1226617 |\n",
       "| bA | -2.728620e-07 | 0.13225976 | -0.2113769 | 0.2113764 |\n",
       "| sigma |  1.213188e+00 | 0.02766080 |  1.1689803 | 1.2573949 |\n",
       "\n"
      ],
      "text/plain": [
       "      mean          sd         5.5%       94.5%    \n",
       "a      1.649248e-07 0.07675015 -0.1226614 0.1226617\n",
       "bA    -2.728620e-07 0.13225976 -0.2113769 0.2113764\n",
       "sigma  1.213188e+00 0.02766080  1.1689803 1.2573949"
      ]
     },
     "metadata": {},
     "output_type": "display_data"
    }
   ],
   "source": [
    "m6.10 <- quap(\n",
    "    alist(\n",
    "    happiness ~ dnorm( mu , sigma ),\n",
    "    mu <- a + bA*A,\n",
    "    a ~ dnorm( 0 , 1 ),\n",
    "    bA ~ dnorm( 0 , 2 ),\n",
    "    sigma ~ dexp(1)\n",
    "    ) , data=d2 )\n",
    "\n",
    "precis(m6.10)"
   ]
  },
  {
   "cell_type": "code",
   "execution_count": 30,
   "metadata": {},
   "outputs": [],
   "source": [
    "N <- 200\n",
    "b_GP <- 1\n",
    "b_GC <- 0\n",
    "b_PC <- 1\n",
    "b_U <- 2"
   ]
  },
  {
   "cell_type": "code",
   "execution_count": 31,
   "metadata": {},
   "outputs": [],
   "source": [
    "set.seed(1)\n",
    "U <- 2*rbern( N , 0.5 ) - 1\n",
    "G <- rnorm( N )\n",
    "P <- rnorm( N , b_GP*G + b_U*U )\n",
    "C <- rnorm( N , b_PC*P + b_GC*G + b_U*U )\n",
    "d <- data.frame( C=C , P=P , G=G , U=U )"
   ]
  },
  {
   "cell_type": "code",
   "execution_count": 32,
   "metadata": {},
   "outputs": [
    {
     "data": {
      "text/html": [
       "<table>\n",
       "<caption>A precis: 4 × 4</caption>\n",
       "<thead>\n",
       "\t<tr><th></th><th scope=col>mean</th><th scope=col>sd</th><th scope=col>5.5%</th><th scope=col>94.5%</th></tr>\n",
       "\t<tr><th></th><th scope=col>&lt;dbl&gt;</th><th scope=col>&lt;dbl&gt;</th><th scope=col>&lt;dbl&gt;</th><th scope=col>&lt;dbl&gt;</th></tr>\n",
       "</thead>\n",
       "<tbody>\n",
       "\t<tr><th scope=row>a</th><td>-0.1174752</td><td>0.09919574</td><td>-0.2760091</td><td> 0.04105877</td></tr>\n",
       "\t<tr><th scope=row>b_PC</th><td> 1.7868915</td><td>0.04455355</td><td> 1.7156863</td><td> 1.85809664</td></tr>\n",
       "\t<tr><th scope=row>b_GC</th><td>-0.8389537</td><td>0.10614045</td><td>-1.0085867</td><td>-0.66932077</td></tr>\n",
       "\t<tr><th scope=row>sigma</th><td> 1.4094891</td><td>0.07011139</td><td> 1.2974375</td><td> 1.52154063</td></tr>\n",
       "</tbody>\n",
       "</table>\n"
      ],
      "text/latex": [
       "A precis: 4 × 4\n",
       "\\begin{tabular}{r|llll}\n",
       "  & mean & sd & 5.5\\% & 94.5\\%\\\\\n",
       "  & <dbl> & <dbl> & <dbl> & <dbl>\\\\\n",
       "\\hline\n",
       "\ta & -0.1174752 & 0.09919574 & -0.2760091 &  0.04105877\\\\\n",
       "\tb\\_PC &  1.7868915 & 0.04455355 &  1.7156863 &  1.85809664\\\\\n",
       "\tb\\_GC & -0.8389537 & 0.10614045 & -1.0085867 & -0.66932077\\\\\n",
       "\tsigma &  1.4094891 & 0.07011139 &  1.2974375 &  1.52154063\\\\\n",
       "\\end{tabular}\n"
      ],
      "text/markdown": [
       "\n",
       "A precis: 4 × 4\n",
       "\n",
       "| <!--/--> | mean &lt;dbl&gt; | sd &lt;dbl&gt; | 5.5% &lt;dbl&gt; | 94.5% &lt;dbl&gt; |\n",
       "|---|---|---|---|---|\n",
       "| a | -0.1174752 | 0.09919574 | -0.2760091 |  0.04105877 |\n",
       "| b_PC |  1.7868915 | 0.04455355 |  1.7156863 |  1.85809664 |\n",
       "| b_GC | -0.8389537 | 0.10614045 | -1.0085867 | -0.66932077 |\n",
       "| sigma |  1.4094891 | 0.07011139 |  1.2974375 |  1.52154063 |\n",
       "\n"
      ],
      "text/plain": [
       "      mean       sd         5.5%       94.5%      \n",
       "a     -0.1174752 0.09919574 -0.2760091  0.04105877\n",
       "b_PC   1.7868915 0.04455355  1.7156863  1.85809664\n",
       "b_GC  -0.8389537 0.10614045 -1.0085867 -0.66932077\n",
       "sigma  1.4094891 0.07011139  1.2974375  1.52154063"
      ]
     },
     "metadata": {},
     "output_type": "display_data"
    }
   ],
   "source": [
    "m6.11 <- quap(\n",
    "    alist(\n",
    "    C ~ dnorm( mu , sigma ),\n",
    "    mu <- a + b_PC*P + b_GC*G,\n",
    "    a ~ dnorm( 0 , 1 ),\n",
    "    c(b_PC,b_GC) ~ dnorm( 0 , 1 ),\n",
    "    sigma ~ dexp( 1 )\n",
    "    ), data=d )\n",
    "\n",
    "precis(m6.11)"
   ]
  },
  {
   "cell_type": "code",
   "execution_count": 33,
   "metadata": {},
   "outputs": [
    {
     "data": {
      "text/html": [
       "<table>\n",
       "<caption>A precis: 5 × 4</caption>\n",
       "<thead>\n",
       "\t<tr><th></th><th scope=col>mean</th><th scope=col>sd</th><th scope=col>5.5%</th><th scope=col>94.5%</th></tr>\n",
       "\t<tr><th></th><th scope=col>&lt;dbl&gt;</th><th scope=col>&lt;dbl&gt;</th><th scope=col>&lt;dbl&gt;</th><th scope=col>&lt;dbl&gt;</th></tr>\n",
       "</thead>\n",
       "<tbody>\n",
       "\t<tr><th scope=row>a</th><td>-0.12197510</td><td>0.07192588</td><td>-0.2369265</td><td>-0.007023655</td></tr>\n",
       "\t<tr><th scope=row>b_PC</th><td> 1.01161103</td><td>0.06597258</td><td> 0.9061741</td><td> 1.117047948</td></tr>\n",
       "\t<tr><th scope=row>b_GC</th><td>-0.04081373</td><td>0.09728716</td><td>-0.1962974</td><td> 0.114669941</td></tr>\n",
       "\t<tr><th scope=row>b_U</th><td> 1.99648992</td><td>0.14770462</td><td> 1.7604294</td><td> 2.232550439</td></tr>\n",
       "\t<tr><th scope=row>sigma</th><td> 1.01959911</td><td>0.05080176</td><td> 0.9384081</td><td> 1.100790130</td></tr>\n",
       "</tbody>\n",
       "</table>\n"
      ],
      "text/latex": [
       "A precis: 5 × 4\n",
       "\\begin{tabular}{r|llll}\n",
       "  & mean & sd & 5.5\\% & 94.5\\%\\\\\n",
       "  & <dbl> & <dbl> & <dbl> & <dbl>\\\\\n",
       "\\hline\n",
       "\ta & -0.12197510 & 0.07192588 & -0.2369265 & -0.007023655\\\\\n",
       "\tb\\_PC &  1.01161103 & 0.06597258 &  0.9061741 &  1.117047948\\\\\n",
       "\tb\\_GC & -0.04081373 & 0.09728716 & -0.1962974 &  0.114669941\\\\\n",
       "\tb\\_U &  1.99648992 & 0.14770462 &  1.7604294 &  2.232550439\\\\\n",
       "\tsigma &  1.01959911 & 0.05080176 &  0.9384081 &  1.100790130\\\\\n",
       "\\end{tabular}\n"
      ],
      "text/markdown": [
       "\n",
       "A precis: 5 × 4\n",
       "\n",
       "| <!--/--> | mean &lt;dbl&gt; | sd &lt;dbl&gt; | 5.5% &lt;dbl&gt; | 94.5% &lt;dbl&gt; |\n",
       "|---|---|---|---|---|\n",
       "| a | -0.12197510 | 0.07192588 | -0.2369265 | -0.007023655 |\n",
       "| b_PC |  1.01161103 | 0.06597258 |  0.9061741 |  1.117047948 |\n",
       "| b_GC | -0.04081373 | 0.09728716 | -0.1962974 |  0.114669941 |\n",
       "| b_U |  1.99648992 | 0.14770462 |  1.7604294 |  2.232550439 |\n",
       "| sigma |  1.01959911 | 0.05080176 |  0.9384081 |  1.100790130 |\n",
       "\n"
      ],
      "text/plain": [
       "      mean        sd         5.5%       94.5%       \n",
       "a     -0.12197510 0.07192588 -0.2369265 -0.007023655\n",
       "b_PC   1.01161103 0.06597258  0.9061741  1.117047948\n",
       "b_GC  -0.04081373 0.09728716 -0.1962974  0.114669941\n",
       "b_U    1.99648992 0.14770462  1.7604294  2.232550439\n",
       "sigma  1.01959911 0.05080176  0.9384081  1.100790130"
      ]
     },
     "metadata": {},
     "output_type": "display_data"
    }
   ],
   "source": [
    "m6.12 <- quap(\n",
    "alist(\n",
    "C ~ dnorm( mu , sigma ),\n",
    "mu <- a + b_PC*P + b_GC*G + b_U*U,\n",
    "a ~ dnorm( 0 , 1 ),\n",
    "c(b_PC,b_GC,b_U) ~ dnorm( 0 , 1 ),\n",
    "sigma ~ dexp( 1 )\n",
    "), data=d )\n",
    "\n",
    "precis(m6.12)"
   ]
  },
  {
   "cell_type": "code",
   "execution_count": 34,
   "metadata": {},
   "outputs": [
    {
     "data": {
      "text/plain": [
       " { C }\n",
       " { A }\n",
       " { U }"
      ]
     },
     "metadata": {},
     "output_type": "display_data"
    }
   ],
   "source": [
    "library(dagitty)\n",
    "dag_6.1 <- dagitty( \"dag {\n",
    "X -> Y <- C\n",
    "X <- U -> B\n",
    "U <- A -> C\n",
    "U -> B <- C\n",
    "}\")\n",
    "adjustmentSets( dag_6.1 , exposure=\"X\" , outcome=\"Y\" )"
   ]
  },
  {
   "cell_type": "code",
   "execution_count": 35,
   "metadata": {},
   "outputs": [
    {
     "data": {
      "text/plain": [
       " { A, M }\n",
       " { S }"
      ]
     },
     "metadata": {},
     "output_type": "display_data"
    }
   ],
   "source": [
    "library(dagitty)\n",
    "dag_6.2 <- dagitty( \"dag {\n",
    "S -> A -> D\n",
    "S -> M -> D\n",
    "S -> W -> D\n",
    "A -> M\n",
    "}\")\n",
    "adjustmentSets( dag_6.2 , exposure=\"W\" , outcome=\"D\" )"
   ]
  },
  {
   "cell_type": "code",
   "execution_count": 36,
   "metadata": {},
   "outputs": [
    {
     "data": {
      "text/plain": [
       "A _||_ W | S\n",
       "D _||_ S | A, M, W\n",
       "M _||_ W | S"
      ]
     },
     "metadata": {},
     "output_type": "display_data"
    }
   ],
   "source": [
    "impliedConditionalIndependencies( dag_6.2 )"
   ]
  },
  {
   "cell_type": "markdown",
   "metadata": {},
   "source": [
    "Chapter 6 Practice"
   ]
  },
  {
   "cell_type": "markdown",
   "metadata": {},
   "source": [
    "Question 6H1"
   ]
  },
  {
   "cell_type": "code",
   "execution_count": 37,
   "metadata": {},
   "outputs": [
    {
     "data": {
      "text/html": [
       "<table>\n",
       "<caption>A data.frame: 6 × 13</caption>\n",
       "<thead>\n",
       "\t<tr><th scope=col>Location</th><th scope=col>Loc</th><th scope=col>Population</th><th scope=col>MedianAgeMarriage</th><th scope=col>Marriage</th><th scope=col>Marriage.SE</th><th scope=col>Divorce</th><th scope=col>Divorce.SE</th><th scope=col>WaffleHouses</th><th scope=col>South</th><th scope=col>Slaves1860</th><th scope=col>Population1860</th><th scope=col>PropSlaves1860</th></tr>\n",
       "\t<tr><th scope=col>&lt;fct&gt;</th><th scope=col>&lt;fct&gt;</th><th scope=col>&lt;dbl&gt;</th><th scope=col>&lt;dbl&gt;</th><th scope=col>&lt;dbl&gt;</th><th scope=col>&lt;dbl&gt;</th><th scope=col>&lt;dbl&gt;</th><th scope=col>&lt;dbl&gt;</th><th scope=col>&lt;int&gt;</th><th scope=col>&lt;int&gt;</th><th scope=col>&lt;int&gt;</th><th scope=col>&lt;int&gt;</th><th scope=col>&lt;dbl&gt;</th></tr>\n",
       "</thead>\n",
       "<tbody>\n",
       "\t<tr><td>Alabama   </td><td>AL</td><td> 4.78</td><td>25.3</td><td>20.2</td><td>1.27</td><td>12.7</td><td>0.79</td><td>128</td><td>1</td><td>435080</td><td>964201</td><td>0.45</td></tr>\n",
       "\t<tr><td>Alaska    </td><td>AK</td><td> 0.71</td><td>25.2</td><td>26.0</td><td>2.93</td><td>12.5</td><td>2.05</td><td>  0</td><td>0</td><td>     0</td><td>     0</td><td>0.00</td></tr>\n",
       "\t<tr><td>Arizona   </td><td>AZ</td><td> 6.33</td><td>25.8</td><td>20.3</td><td>0.98</td><td>10.8</td><td>0.74</td><td> 18</td><td>0</td><td>     0</td><td>     0</td><td>0.00</td></tr>\n",
       "\t<tr><td>Arkansas  </td><td>AR</td><td> 2.92</td><td>24.3</td><td>26.4</td><td>1.70</td><td>13.5</td><td>1.22</td><td> 41</td><td>1</td><td>111115</td><td>435450</td><td>0.26</td></tr>\n",
       "\t<tr><td>California</td><td>CA</td><td>37.25</td><td>26.8</td><td>19.1</td><td>0.39</td><td> 8.0</td><td>0.24</td><td>  0</td><td>0</td><td>     0</td><td>379994</td><td>0.00</td></tr>\n",
       "\t<tr><td>Colorado  </td><td>CO</td><td> 5.03</td><td>25.7</td><td>23.5</td><td>1.24</td><td>11.6</td><td>0.94</td><td> 11</td><td>0</td><td>     0</td><td> 34277</td><td>0.00</td></tr>\n",
       "</tbody>\n",
       "</table>\n"
      ],
      "text/latex": [
       "A data.frame: 6 × 13\n",
       "\\begin{tabular}{r|lllllllllllll}\n",
       " Location & Loc & Population & MedianAgeMarriage & Marriage & Marriage.SE & Divorce & Divorce.SE & WaffleHouses & South & Slaves1860 & Population1860 & PropSlaves1860\\\\\n",
       " <fct> & <fct> & <dbl> & <dbl> & <dbl> & <dbl> & <dbl> & <dbl> & <int> & <int> & <int> & <int> & <dbl>\\\\\n",
       "\\hline\n",
       "\t Alabama    & AL &  4.78 & 25.3 & 20.2 & 1.27 & 12.7 & 0.79 & 128 & 1 & 435080 & 964201 & 0.45\\\\\n",
       "\t Alaska     & AK &  0.71 & 25.2 & 26.0 & 2.93 & 12.5 & 2.05 &   0 & 0 &      0 &      0 & 0.00\\\\\n",
       "\t Arizona    & AZ &  6.33 & 25.8 & 20.3 & 0.98 & 10.8 & 0.74 &  18 & 0 &      0 &      0 & 0.00\\\\\n",
       "\t Arkansas   & AR &  2.92 & 24.3 & 26.4 & 1.70 & 13.5 & 1.22 &  41 & 1 & 111115 & 435450 & 0.26\\\\\n",
       "\t California & CA & 37.25 & 26.8 & 19.1 & 0.39 &  8.0 & 0.24 &   0 & 0 &      0 & 379994 & 0.00\\\\\n",
       "\t Colorado   & CO &  5.03 & 25.7 & 23.5 & 1.24 & 11.6 & 0.94 &  11 & 0 &      0 &  34277 & 0.00\\\\\n",
       "\\end{tabular}\n"
      ],
      "text/markdown": [
       "\n",
       "A data.frame: 6 × 13\n",
       "\n",
       "| Location &lt;fct&gt; | Loc &lt;fct&gt; | Population &lt;dbl&gt; | MedianAgeMarriage &lt;dbl&gt; | Marriage &lt;dbl&gt; | Marriage.SE &lt;dbl&gt; | Divorce &lt;dbl&gt; | Divorce.SE &lt;dbl&gt; | WaffleHouses &lt;int&gt; | South &lt;int&gt; | Slaves1860 &lt;int&gt; | Population1860 &lt;int&gt; | PropSlaves1860 &lt;dbl&gt; |\n",
       "|---|---|---|---|---|---|---|---|---|---|---|---|---|\n",
       "| Alabama    | AL |  4.78 | 25.3 | 20.2 | 1.27 | 12.7 | 0.79 | 128 | 1 | 435080 | 964201 | 0.45 |\n",
       "| Alaska     | AK |  0.71 | 25.2 | 26.0 | 2.93 | 12.5 | 2.05 |   0 | 0 |      0 |      0 | 0.00 |\n",
       "| Arizona    | AZ |  6.33 | 25.8 | 20.3 | 0.98 | 10.8 | 0.74 |  18 | 0 |      0 |      0 | 0.00 |\n",
       "| Arkansas   | AR |  2.92 | 24.3 | 26.4 | 1.70 | 13.5 | 1.22 |  41 | 1 | 111115 | 435450 | 0.26 |\n",
       "| California | CA | 37.25 | 26.8 | 19.1 | 0.39 |  8.0 | 0.24 |   0 | 0 |      0 | 379994 | 0.00 |\n",
       "| Colorado   | CO |  5.03 | 25.7 | 23.5 | 1.24 | 11.6 | 0.94 |  11 | 0 |      0 |  34277 | 0.00 |\n",
       "\n"
      ],
      "text/plain": [
       "  Location   Loc Population MedianAgeMarriage Marriage Marriage.SE Divorce\n",
       "1 Alabama    AL   4.78      25.3              20.2     1.27        12.7   \n",
       "2 Alaska     AK   0.71      25.2              26.0     2.93        12.5   \n",
       "3 Arizona    AZ   6.33      25.8              20.3     0.98        10.8   \n",
       "4 Arkansas   AR   2.92      24.3              26.4     1.70        13.5   \n",
       "5 California CA  37.25      26.8              19.1     0.39         8.0   \n",
       "6 Colorado   CO   5.03      25.7              23.5     1.24        11.6   \n",
       "  Divorce.SE WaffleHouses South Slaves1860 Population1860 PropSlaves1860\n",
       "1 0.79       128          1     435080     964201         0.45          \n",
       "2 2.05         0          0          0          0         0.00          \n",
       "3 0.74        18          0          0          0         0.00          \n",
       "4 1.22        41          1     111115     435450         0.26          \n",
       "5 0.24         0          0          0     379994         0.00          \n",
       "6 0.94        11          0          0      34277         0.00          "
      ]
     },
     "metadata": {},
     "output_type": "display_data"
    }
   ],
   "source": [
    "data(WaffleDivorce)\n",
    "d = WaffleDivorce\n",
    "head(d)"
   ]
  },
  {
   "cell_type": "markdown",
   "metadata": {},
   "source": [
    "From the book, page 185, \"Note that what the do-operator gives you is not just the direct causal effect. It is\n",
    "the total causal effect through all forward paths. To get a direct causal effect, you might have to close\n",
    "more doors.\" Therefore, what we need to find the total causal influence of number of Waffle Houses on divorce rate is: Pr( Divorce Rate | do(Waffle Houses) )"
   ]
  },
  {
   "cell_type": "markdown",
   "metadata": {},
   "source": [
    "We can use the DAG andthe code in the book on page 185 to find out which variables we need to control for:"
   ]
  },
  {
   "cell_type": "code",
   "execution_count": 38,
   "metadata": {},
   "outputs": [
    {
     "data": {
      "text/plain": [
       " { A, M }\n",
       " { S }"
      ]
     },
     "metadata": {},
     "output_type": "display_data"
    }
   ],
   "source": [
    "library(dagitty)\n",
    "dag_6.2 <- dagitty( \"dag {\n",
    "S -> A -> D\n",
    "S -> M -> D\n",
    "S -> W -> D\n",
    "A -> M\n",
    "}\")\n",
    "adjustmentSets( dag_6.2 , exposure=\"W\" , outcome=\"D\" )"
   ]
  },
  {
   "cell_type": "code",
   "execution_count": 39,
   "metadata": {},
   "outputs": [
    {
     "data": {
      "image/png": "[encoded data removed]",
      "text/plain": [
       "plot without title"
      ]
     },
     "metadata": {},
     "output_type": "display_data"
    }
   ],
   "source": [
    "coordinates( dag_6.2 ) <- list( x=c(S=0,A=0,M=1,W=2,D=2) , y=c(S=0,A=2,M=1,W=0,D=2) ) \n",
    "\n",
    "plot( dag_6.2 )"
   ]
  },
  {
   "cell_type": "markdown",
   "metadata": {},
   "source": [
    "So either we control for the state, or we control for A and M.  Let's check both:"
   ]
  },
  {
   "cell_type": "code",
   "execution_count": 40,
   "metadata": {},
   "outputs": [
    {
     "data": {
      "text/html": [
       "<table>\n",
       "<caption>A data.frame: 6 × 18</caption>\n",
       "<thead>\n",
       "\t<tr><th scope=col>Location</th><th scope=col>Loc</th><th scope=col>Population</th><th scope=col>MedianAgeMarriage</th><th scope=col>Marriage</th><th scope=col>Marriage.SE</th><th scope=col>Divorce</th><th scope=col>Divorce.SE</th><th scope=col>WaffleHouses</th><th scope=col>South</th><th scope=col>Slaves1860</th><th scope=col>Population1860</th><th scope=col>PropSlaves1860</th><th scope=col>D</th><th scope=col>W</th><th scope=col>A</th><th scope=col>M</th><th scope=col>S</th></tr>\n",
       "\t<tr><th scope=col>&lt;fct&gt;</th><th scope=col>&lt;fct&gt;</th><th scope=col>&lt;dbl&gt;</th><th scope=col>&lt;dbl&gt;</th><th scope=col>&lt;dbl&gt;</th><th scope=col>&lt;dbl&gt;</th><th scope=col>&lt;dbl&gt;</th><th scope=col>&lt;dbl&gt;</th><th scope=col>&lt;int&gt;</th><th scope=col>&lt;int&gt;</th><th scope=col>&lt;int&gt;</th><th scope=col>&lt;int&gt;</th><th scope=col>&lt;dbl&gt;</th><th scope=col>&lt;dbl[,1]&gt;</th><th scope=col>&lt;dbl[,1]&gt;</th><th scope=col>&lt;dbl[,1]&gt;</th><th scope=col>&lt;dbl[,1]&gt;</th><th scope=col>&lt;dbl[,1]&gt;</th></tr>\n",
       "</thead>\n",
       "<tbody>\n",
       "\t<tr><td>Alabama   </td><td>AL</td><td> 4.78</td><td>25.3</td><td>20.2</td><td>1.27</td><td>12.7</td><td>0.79</td><td>128</td><td>1</td><td>435080</td><td>964201</td><td>0.45</td><td> 1.6542053</td><td> 1.4540295</td><td>-0.6062895</td><td> 0.02264406</td><td> 1.587451</td></tr>\n",
       "\t<tr><td>Alaska    </td><td>AK</td><td> 0.71</td><td>25.2</td><td>26.0</td><td>2.93</td><td>12.5</td><td>2.05</td><td>  0</td><td>0</td><td>     0</td><td>     0</td><td>0.00</td><td> 1.5443643</td><td>-0.4915672</td><td>-0.6866993</td><td> 1.54980162</td><td>-0.617342</td></tr>\n",
       "\t<tr><td>Arizona   </td><td>AZ</td><td> 6.33</td><td>25.8</td><td>20.3</td><td>0.98</td><td>10.8</td><td>0.74</td><td> 18</td><td>0</td><td>     0</td><td>     0</td><td>0.00</td><td> 0.6107159</td><td>-0.2179676</td><td>-0.2042408</td><td> 0.04897436</td><td>-0.617342</td></tr>\n",
       "\t<tr><td>Arkansas  </td><td>AR</td><td> 2.92</td><td>24.3</td><td>26.4</td><td>1.70</td><td>13.5</td><td>1.22</td><td> 41</td><td>1</td><td>111115</td><td>435450</td><td>0.26</td><td> 2.0935693</td><td> 0.1316318</td><td>-1.4103870</td><td> 1.65512283</td><td> 1.587451</td></tr>\n",
       "\t<tr><td>California</td><td>CA</td><td>37.25</td><td>26.8</td><td>19.1</td><td>0.39</td><td> 8.0</td><td>0.24</td><td>  0</td><td>0</td><td>     0</td><td>379994</td><td>0.00</td><td>-0.9270579</td><td>-0.4915672</td><td> 0.5998567</td><td>-0.26698927</td><td>-0.617342</td></tr>\n",
       "\t<tr><td>Colorado  </td><td>CO</td><td> 5.03</td><td>25.7</td><td>23.5</td><td>1.24</td><td>11.6</td><td>0.94</td><td> 11</td><td>0</td><td>     0</td><td> 34277</td><td>0.00</td><td> 1.0500799</td><td>-0.3243674</td><td>-0.2846505</td><td> 0.89154405</td><td>-0.617342</td></tr>\n",
       "</tbody>\n",
       "</table>\n"
      ],
      "text/latex": [
       "A data.frame: 6 × 18\n",
       "\\begin{tabular}{r|llllllllllllllllll}\n",
       " Location & Loc & Population & MedianAgeMarriage & Marriage & Marriage.SE & Divorce & Divorce.SE & WaffleHouses & South & Slaves1860 & Population1860 & PropSlaves1860 & D & W & A & M & S\\\\\n",
       " <fct> & <fct> & <dbl> & <dbl> & <dbl> & <dbl> & <dbl> & <dbl> & <int> & <int> & <int> & <int> & <dbl> & <dbl{[},1{]}> & <dbl{[},1{]}> & <dbl{[},1{]}> & <dbl{[},1{]}> & <dbl{[},1{]}>\\\\\n",
       "\\hline\n",
       "\t Alabama    & AL &  4.78 & 25.3 & 20.2 & 1.27 & 12.7 & 0.79 & 128 & 1 & 435080 & 964201 & 0.45 &  1.6542053 &  1.4540295 & -0.6062895 &  0.02264406 &  1.587451\\\\\n",
       "\t Alaska     & AK &  0.71 & 25.2 & 26.0 & 2.93 & 12.5 & 2.05 &   0 & 0 &      0 &      0 & 0.00 &  1.5443643 & -0.4915672 & -0.6866993 &  1.54980162 & -0.617342\\\\\n",
       "\t Arizona    & AZ &  6.33 & 25.8 & 20.3 & 0.98 & 10.8 & 0.74 &  18 & 0 &      0 &      0 & 0.00 &  0.6107159 & -0.2179676 & -0.2042408 &  0.04897436 & -0.617342\\\\\n",
       "\t Arkansas   & AR &  2.92 & 24.3 & 26.4 & 1.70 & 13.5 & 1.22 &  41 & 1 & 111115 & 435450 & 0.26 &  2.0935693 &  0.1316318 & -1.4103870 &  1.65512283 &  1.587451\\\\\n",
       "\t California & CA & 37.25 & 26.8 & 19.1 & 0.39 &  8.0 & 0.24 &   0 & 0 &      0 & 379994 & 0.00 & -0.9270579 & -0.4915672 &  0.5998567 & -0.26698927 & -0.617342\\\\\n",
       "\t Colorado   & CO &  5.03 & 25.7 & 23.5 & 1.24 & 11.6 & 0.94 &  11 & 0 &      0 &  34277 & 0.00 &  1.0500799 & -0.3243674 & -0.2846505 &  0.89154405 & -0.617342\\\\\n",
       "\\end{tabular}\n"
      ],
      "text/markdown": [
       "\n",
       "A data.frame: 6 × 18\n",
       "\n",
       "| Location &lt;fct&gt; | Loc &lt;fct&gt; | Population &lt;dbl&gt; | MedianAgeMarriage &lt;dbl&gt; | Marriage &lt;dbl&gt; | Marriage.SE &lt;dbl&gt; | Divorce &lt;dbl&gt; | Divorce.SE &lt;dbl&gt; | WaffleHouses &lt;int&gt; | South &lt;int&gt; | Slaves1860 &lt;int&gt; | Population1860 &lt;int&gt; | PropSlaves1860 &lt;dbl&gt; | D &lt;dbl[,1]&gt; | W &lt;dbl[,1]&gt; | A &lt;dbl[,1]&gt; | M &lt;dbl[,1]&gt; | S &lt;dbl[,1]&gt; |\n",
       "|---|---|---|---|---|---|---|---|---|---|---|---|---|---|---|---|---|---|\n",
       "| Alabama    | AL |  4.78 | 25.3 | 20.2 | 1.27 | 12.7 | 0.79 | 128 | 1 | 435080 | 964201 | 0.45 |  1.6542053 |  1.4540295 | -0.6062895 |  0.02264406 |  1.587451 |\n",
       "| Alaska     | AK |  0.71 | 25.2 | 26.0 | 2.93 | 12.5 | 2.05 |   0 | 0 |      0 |      0 | 0.00 |  1.5443643 | -0.4915672 | -0.6866993 |  1.54980162 | -0.617342 |\n",
       "| Arizona    | AZ |  6.33 | 25.8 | 20.3 | 0.98 | 10.8 | 0.74 |  18 | 0 |      0 |      0 | 0.00 |  0.6107159 | -0.2179676 | -0.2042408 |  0.04897436 | -0.617342 |\n",
       "| Arkansas   | AR |  2.92 | 24.3 | 26.4 | 1.70 | 13.5 | 1.22 |  41 | 1 | 111115 | 435450 | 0.26 |  2.0935693 |  0.1316318 | -1.4103870 |  1.65512283 |  1.587451 |\n",
       "| California | CA | 37.25 | 26.8 | 19.1 | 0.39 |  8.0 | 0.24 |   0 | 0 |      0 | 379994 | 0.00 | -0.9270579 | -0.4915672 |  0.5998567 | -0.26698927 | -0.617342 |\n",
       "| Colorado   | CO |  5.03 | 25.7 | 23.5 | 1.24 | 11.6 | 0.94 |  11 | 0 |      0 |  34277 | 0.00 |  1.0500799 | -0.3243674 | -0.2846505 |  0.89154405 | -0.617342 |\n",
       "\n"
      ],
      "text/plain": [
       "  Location   Loc Population MedianAgeMarriage Marriage Marriage.SE Divorce\n",
       "1 Alabama    AL   4.78      25.3              20.2     1.27        12.7   \n",
       "2 Alaska     AK   0.71      25.2              26.0     2.93        12.5   \n",
       "3 Arizona    AZ   6.33      25.8              20.3     0.98        10.8   \n",
       "4 Arkansas   AR   2.92      24.3              26.4     1.70        13.5   \n",
       "5 California CA  37.25      26.8              19.1     0.39         8.0   \n",
       "6 Colorado   CO   5.03      25.7              23.5     1.24        11.6   \n",
       "  Divorce.SE WaffleHouses South Slaves1860 Population1860 PropSlaves1860\n",
       "1 0.79       128          1     435080     964201         0.45          \n",
       "2 2.05         0          0          0          0         0.00          \n",
       "3 0.74        18          0          0          0         0.00          \n",
       "4 1.22        41          1     111115     435450         0.26          \n",
       "5 0.24         0          0          0     379994         0.00          \n",
       "6 0.94        11          0          0      34277         0.00          \n",
       "  D          W          A          M           S        \n",
       "1  1.6542053  1.4540295 -0.6062895  0.02264406  1.587451\n",
       "2  1.5443643 -0.4915672 -0.6866993  1.54980162 -0.617342\n",
       "3  0.6107159 -0.2179676 -0.2042408  0.04897436 -0.617342\n",
       "4  2.0935693  0.1316318 -1.4103870  1.65512283  1.587451\n",
       "5 -0.9270579 -0.4915672  0.5998567 -0.26698927 -0.617342\n",
       "6  1.0500799 -0.3243674 -0.2846505  0.89154405 -0.617342"
      ]
     },
     "metadata": {},
     "output_type": "display_data"
    }
   ],
   "source": [
    "d$D <- scale( d$Divorce )\n",
    "d$W <- scale( d$WaffleHouses )\n",
    "d$A <- scale( d$MedianAgeMarriage )\n",
    "d$M <- scale( d$Marriage )\n",
    "d$S <- scale( d$South )\n",
    "#d$S <- 2*d$South - 1\n",
    "\n",
    "head(d)"
   ]
  },
  {
   "cell_type": "code",
   "execution_count": 41,
   "metadata": {},
   "outputs": [
    {
     "data": {
      "text/html": [
       "<table>\n",
       "<caption>A precis: 4 × 4</caption>\n",
       "<thead>\n",
       "\t<tr><th></th><th scope=col>mean</th><th scope=col>sd</th><th scope=col>5.5%</th><th scope=col>94.5%</th></tr>\n",
       "\t<tr><th></th><th scope=col>&lt;dbl&gt;</th><th scope=col>&lt;dbl&gt;</th><th scope=col>&lt;dbl&gt;</th><th scope=col>&lt;dbl&gt;</th></tr>\n",
       "</thead>\n",
       "<tbody>\n",
       "\t<tr><th scope=row>a</th><td>2.738022e-06</td><td>0.12907377</td><td>-0.20628207</td><td>0.2062875</td></tr>\n",
       "\t<tr><th scope=row>b_W</th><td>3.907041e-02</td><td>0.17657753</td><td>-0.24313459</td><td>0.3212754</td></tr>\n",
       "\t<tr><th scope=row>b_S</th><td>3.129599e-01</td><td>0.17658316</td><td> 0.03074592</td><td>0.5951739</td></tr>\n",
       "\t<tr><th scope=row>sigma</th><td>9.203884e-01</td><td>0.09079812</td><td> 0.77527548</td><td>1.0655013</td></tr>\n",
       "</tbody>\n",
       "</table>\n"
      ],
      "text/latex": [
       "A precis: 4 × 4\n",
       "\\begin{tabular}{r|llll}\n",
       "  & mean & sd & 5.5\\% & 94.5\\%\\\\\n",
       "  & <dbl> & <dbl> & <dbl> & <dbl>\\\\\n",
       "\\hline\n",
       "\ta & 2.738022e-06 & 0.12907377 & -0.20628207 & 0.2062875\\\\\n",
       "\tb\\_W & 3.907041e-02 & 0.17657753 & -0.24313459 & 0.3212754\\\\\n",
       "\tb\\_S & 3.129599e-01 & 0.17658316 &  0.03074592 & 0.5951739\\\\\n",
       "\tsigma & 9.203884e-01 & 0.09079812 &  0.77527548 & 1.0655013\\\\\n",
       "\\end{tabular}\n"
      ],
      "text/markdown": [
       "\n",
       "A precis: 4 × 4\n",
       "\n",
       "| <!--/--> | mean &lt;dbl&gt; | sd &lt;dbl&gt; | 5.5% &lt;dbl&gt; | 94.5% &lt;dbl&gt; |\n",
       "|---|---|---|---|---|\n",
       "| a | 2.738022e-06 | 0.12907377 | -0.20628207 | 0.2062875 |\n",
       "| b_W | 3.907041e-02 | 0.17657753 | -0.24313459 | 0.3212754 |\n",
       "| b_S | 3.129599e-01 | 0.17658316 |  0.03074592 | 0.5951739 |\n",
       "| sigma | 9.203884e-01 | 0.09079812 |  0.77527548 | 1.0655013 |\n",
       "\n"
      ],
      "text/plain": [
       "      mean         sd         5.5%        94.5%    \n",
       "a     2.738022e-06 0.12907377 -0.20628207 0.2062875\n",
       "b_W   3.907041e-02 0.17657753 -0.24313459 0.3212754\n",
       "b_S   3.129599e-01 0.17658316  0.03074592 0.5951739\n",
       "sigma 9.203884e-01 0.09079812  0.77527548 1.0655013"
      ]
     },
     "metadata": {},
     "output_type": "display_data"
    }
   ],
   "source": [
    "m6H1a <- quap(\n",
    "    alist(\n",
    "    D ~ dnorm( mu , sigma ),\n",
    "    mu <- a + b_W*W + b_S*S,\n",
    "    a ~ dnorm( 0 , 1 ),\n",
    "    c(b_W,b_S) ~ dnorm( 0 , 1 ),\n",
    "    sigma ~ dexp( 1 )\n",
    "    ), data=d )\n",
    "\n",
    "precis(m6H1a)"
   ]
  },
  {
   "cell_type": "code",
   "execution_count": 42,
   "metadata": {},
   "outputs": [
    {
     "data": {
      "text/html": [
       "<table>\n",
       "<caption>A precis: 5 × 4</caption>\n",
       "<thead>\n",
       "\t<tr><th></th><th scope=col>mean</th><th scope=col>sd</th><th scope=col>5.5%</th><th scope=col>94.5%</th></tr>\n",
       "\t<tr><th></th><th scope=col>&lt;dbl&gt;</th><th scope=col>&lt;dbl&gt;</th><th scope=col>&lt;dbl&gt;</th><th scope=col>&lt;dbl&gt;</th></tr>\n",
       "</thead>\n",
       "<tbody>\n",
       "\t<tr><th scope=row>a</th><td> 5.511250e-08</td><td>0.10742087</td><td>-0.17167925</td><td> 0.1716794</td></tr>\n",
       "\t<tr><th scope=row>b_W</th><td> 1.802513e-01</td><td>0.10960808</td><td> 0.00507644</td><td> 0.3554262</td></tr>\n",
       "\t<tr><th scope=row>b_A</th><td>-6.286113e-01</td><td>0.15621134</td><td>-0.87826720</td><td>-0.3789554</td></tr>\n",
       "\t<tr><th scope=row>b_M</th><td>-8.345255e-02</td><td>0.15518354</td><td>-0.33146582</td><td> 0.1645607</td></tr>\n",
       "\t<tr><th scope=row>sigma</th><td> 7.640011e-01</td><td>0.07555565</td><td> 0.64324855</td><td> 0.8847536</td></tr>\n",
       "</tbody>\n",
       "</table>\n"
      ],
      "text/latex": [
       "A precis: 5 × 4\n",
       "\\begin{tabular}{r|llll}\n",
       "  & mean & sd & 5.5\\% & 94.5\\%\\\\\n",
       "  & <dbl> & <dbl> & <dbl> & <dbl>\\\\\n",
       "\\hline\n",
       "\ta &  5.511250e-08 & 0.10742087 & -0.17167925 &  0.1716794\\\\\n",
       "\tb\\_W &  1.802513e-01 & 0.10960808 &  0.00507644 &  0.3554262\\\\\n",
       "\tb\\_A & -6.286113e-01 & 0.15621134 & -0.87826720 & -0.3789554\\\\\n",
       "\tb\\_M & -8.345255e-02 & 0.15518354 & -0.33146582 &  0.1645607\\\\\n",
       "\tsigma &  7.640011e-01 & 0.07555565 &  0.64324855 &  0.8847536\\\\\n",
       "\\end{tabular}\n"
      ],
      "text/markdown": [
       "\n",
       "A precis: 5 × 4\n",
       "\n",
       "| <!--/--> | mean &lt;dbl&gt; | sd &lt;dbl&gt; | 5.5% &lt;dbl&gt; | 94.5% &lt;dbl&gt; |\n",
       "|---|---|---|---|---|\n",
       "| a |  5.511250e-08 | 0.10742087 | -0.17167925 |  0.1716794 |\n",
       "| b_W |  1.802513e-01 | 0.10960808 |  0.00507644 |  0.3554262 |\n",
       "| b_A | -6.286113e-01 | 0.15621134 | -0.87826720 | -0.3789554 |\n",
       "| b_M | -8.345255e-02 | 0.15518354 | -0.33146582 |  0.1645607 |\n",
       "| sigma |  7.640011e-01 | 0.07555565 |  0.64324855 |  0.8847536 |\n",
       "\n"
      ],
      "text/plain": [
       "      mean          sd         5.5%        94.5%     \n",
       "a      5.511250e-08 0.10742087 -0.17167925  0.1716794\n",
       "b_W    1.802513e-01 0.10960808  0.00507644  0.3554262\n",
       "b_A   -6.286113e-01 0.15621134 -0.87826720 -0.3789554\n",
       "b_M   -8.345255e-02 0.15518354 -0.33146582  0.1645607\n",
       "sigma  7.640011e-01 0.07555565  0.64324855  0.8847536"
      ]
     },
     "metadata": {},
     "output_type": "display_data"
    }
   ],
   "source": [
    "m6H1b <- quap(\n",
    "    alist(\n",
    "    D ~ dnorm( mu , sigma ),\n",
    "    mu <- a + b_W*W + b_A*A + b_M*M,\n",
    "    a ~ dnorm( 0 , 1 ),\n",
    "    c(b_W, b_A, b_M) ~ dnorm( 0 , 1 ),\n",
    "    sigma ~ dexp( 1 )\n",
    "    ), data=d )\n",
    "\n",
    "precis(m6H1b)"
   ]
  },
  {
   "cell_type": "markdown",
   "metadata": {},
   "source": [
    "Model 'a' has coefficient b_W that is not significantly different from 0, demonstrating the lack of evidence for a causal influence between Waffle Houses on divorce rate, once the backdoor influence of State has been controlled for.  The alternate specification (model 'b') controlling for Age of Marriage and Marriage rate, which also block the backdoor paths between Waffle Houses and Divorce, show a very weak positive influence of W on D, with a credible interval at the 89% level that only just excludes the value of 0 for b_W.  "
   ]
  },
  {
   "cell_type": "markdown",
   "metadata": {},
   "source": [
    "Question 6H2"
   ]
  },
  {
   "cell_type": "markdown",
   "metadata": {},
   "source": [
    "DAG 6.2 implies the following conditional independencies:"
   ]
  },
  {
   "cell_type": "code",
   "execution_count": 43,
   "metadata": {},
   "outputs": [
    {
     "data": {
      "text/plain": [
       "A _||_ W | S\n",
       "D _||_ S | A, M, W\n",
       "M _||_ W | S"
      ]
     },
     "metadata": {},
     "output_type": "display_data"
    }
   ],
   "source": [
    "impliedConditionalIndependencies( dag_6.2 )"
   ]
  },
  {
   "cell_type": "code",
   "execution_count": 44,
   "metadata": {},
   "outputs": [
    {
     "data": {
      "text/html": [
       "<table>\n",
       "<caption>A precis: 4 × 4</caption>\n",
       "<thead>\n",
       "\t<tr><th></th><th scope=col>mean</th><th scope=col>sd</th><th scope=col>5.5%</th><th scope=col>94.5%</th></tr>\n",
       "\t<tr><th></th><th scope=col>&lt;dbl&gt;</th><th scope=col>&lt;dbl&gt;</th><th scope=col>&lt;dbl&gt;</th><th scope=col>&lt;dbl&gt;</th></tr>\n",
       "</thead>\n",
       "<tbody>\n",
       "\t<tr><th scope=row>a</th><td> 5.473129e-07</td><td>0.13281112</td><td>-0.2122573</td><td> 0.21225837</td></tr>\n",
       "\t<tr><th scope=row>b_W</th><td> 8.791736e-02</td><td>0.18154150</td><td>-0.2022210</td><td> 0.37805574</td></tr>\n",
       "\t<tr><th scope=row>b_S</th><td>-3.028331e-01</td><td>0.18154683</td><td>-0.5929800</td><td>-0.01268615</td></tr>\n",
       "\t<tr><th scope=row>sigma</th><td> 9.475101e-01</td><td>0.09344017</td><td> 0.7981746</td><td> 1.09684551</td></tr>\n",
       "</tbody>\n",
       "</table>\n"
      ],
      "text/latex": [
       "A precis: 4 × 4\n",
       "\\begin{tabular}{r|llll}\n",
       "  & mean & sd & 5.5\\% & 94.5\\%\\\\\n",
       "  & <dbl> & <dbl> & <dbl> & <dbl>\\\\\n",
       "\\hline\n",
       "\ta &  5.473129e-07 & 0.13281112 & -0.2122573 &  0.21225837\\\\\n",
       "\tb\\_W &  8.791736e-02 & 0.18154150 & -0.2022210 &  0.37805574\\\\\n",
       "\tb\\_S & -3.028331e-01 & 0.18154683 & -0.5929800 & -0.01268615\\\\\n",
       "\tsigma &  9.475101e-01 & 0.09344017 &  0.7981746 &  1.09684551\\\\\n",
       "\\end{tabular}\n"
      ],
      "text/markdown": [
       "\n",
       "A precis: 4 × 4\n",
       "\n",
       "| <!--/--> | mean &lt;dbl&gt; | sd &lt;dbl&gt; | 5.5% &lt;dbl&gt; | 94.5% &lt;dbl&gt; |\n",
       "|---|---|---|---|---|\n",
       "| a |  5.473129e-07 | 0.13281112 | -0.2122573 |  0.21225837 |\n",
       "| b_W |  8.791736e-02 | 0.18154150 | -0.2022210 |  0.37805574 |\n",
       "| b_S | -3.028331e-01 | 0.18154683 | -0.5929800 | -0.01268615 |\n",
       "| sigma |  9.475101e-01 | 0.09344017 |  0.7981746 |  1.09684551 |\n",
       "\n"
      ],
      "text/plain": [
       "      mean          sd         5.5%       94.5%      \n",
       "a      5.473129e-07 0.13281112 -0.2122573  0.21225837\n",
       "b_W    8.791736e-02 0.18154150 -0.2022210  0.37805574\n",
       "b_S   -3.028331e-01 0.18154683 -0.5929800 -0.01268615\n",
       "sigma  9.475101e-01 0.09344017  0.7981746  1.09684551"
      ]
     },
     "metadata": {},
     "output_type": "display_data"
    }
   ],
   "source": [
    "m6H2a <- quap(\n",
    "    alist(\n",
    "    A ~ dnorm( mu , sigma ),\n",
    "    mu <- a + b_W*W + b_S*S,\n",
    "    a ~ dnorm( 0 , 1 ),\n",
    "    c(b_W, b_S) ~ dnorm( 0 , 1 ),\n",
    "    sigma ~ dexp( 1 )\n",
    "    ), data=d )\n",
    "\n",
    "precis(m6H2a)"
   ]
  },
  {
   "cell_type": "code",
   "execution_count": 45,
   "metadata": {},
   "outputs": [
    {
     "data": {
      "text/html": [
       "<table>\n",
       "<caption>A precis: 6 × 4</caption>\n",
       "<thead>\n",
       "\t<tr><th></th><th scope=col>mean</th><th scope=col>sd</th><th scope=col>5.5%</th><th scope=col>94.5%</th></tr>\n",
       "\t<tr><th></th><th scope=col>&lt;dbl&gt;</th><th scope=col>&lt;dbl&gt;</th><th scope=col>&lt;dbl&gt;</th><th scope=col>&lt;dbl&gt;</th></tr>\n",
       "</thead>\n",
       "<tbody>\n",
       "\t<tr><th scope=row>a</th><td>-3.126505e-06</td><td>0.10657787</td><td>-0.1703351</td><td> 0.1703289</td></tr>\n",
       "\t<tr><th scope=row>b_S</th><td> 1.414221e-01</td><td>0.15139691</td><td>-0.1005394</td><td> 0.3833836</td></tr>\n",
       "\t<tr><th scope=row>b_A</th><td>-5.932765e-01</td><td>0.15962758</td><td>-0.8483922</td><td>-0.3381608</td></tr>\n",
       "\t<tr><th scope=row>b_M</th><td>-6.724247e-02</td><td>0.15499197</td><td>-0.3149496</td><td> 0.1804646</td></tr>\n",
       "\t<tr><th scope=row>b_W</th><td> 8.806615e-02</td><td>0.14685669</td><td>-0.1466392</td><td> 0.3227715</td></tr>\n",
       "\t<tr><th scope=row>sigma</th><td> 7.579363e-01</td><td>0.07496085</td><td> 0.6381344</td><td> 0.8777382</td></tr>\n",
       "</tbody>\n",
       "</table>\n"
      ],
      "text/latex": [
       "A precis: 6 × 4\n",
       "\\begin{tabular}{r|llll}\n",
       "  & mean & sd & 5.5\\% & 94.5\\%\\\\\n",
       "  & <dbl> & <dbl> & <dbl> & <dbl>\\\\\n",
       "\\hline\n",
       "\ta & -3.126505e-06 & 0.10657787 & -0.1703351 &  0.1703289\\\\\n",
       "\tb\\_S &  1.414221e-01 & 0.15139691 & -0.1005394 &  0.3833836\\\\\n",
       "\tb\\_A & -5.932765e-01 & 0.15962758 & -0.8483922 & -0.3381608\\\\\n",
       "\tb\\_M & -6.724247e-02 & 0.15499197 & -0.3149496 &  0.1804646\\\\\n",
       "\tb\\_W &  8.806615e-02 & 0.14685669 & -0.1466392 &  0.3227715\\\\\n",
       "\tsigma &  7.579363e-01 & 0.07496085 &  0.6381344 &  0.8777382\\\\\n",
       "\\end{tabular}\n"
      ],
      "text/markdown": [
       "\n",
       "A precis: 6 × 4\n",
       "\n",
       "| <!--/--> | mean &lt;dbl&gt; | sd &lt;dbl&gt; | 5.5% &lt;dbl&gt; | 94.5% &lt;dbl&gt; |\n",
       "|---|---|---|---|---|\n",
       "| a | -3.126505e-06 | 0.10657787 | -0.1703351 |  0.1703289 |\n",
       "| b_S |  1.414221e-01 | 0.15139691 | -0.1005394 |  0.3833836 |\n",
       "| b_A | -5.932765e-01 | 0.15962758 | -0.8483922 | -0.3381608 |\n",
       "| b_M | -6.724247e-02 | 0.15499197 | -0.3149496 |  0.1804646 |\n",
       "| b_W |  8.806615e-02 | 0.14685669 | -0.1466392 |  0.3227715 |\n",
       "| sigma |  7.579363e-01 | 0.07496085 |  0.6381344 |  0.8777382 |\n",
       "\n"
      ],
      "text/plain": [
       "      mean          sd         5.5%       94.5%     \n",
       "a     -3.126505e-06 0.10657787 -0.1703351  0.1703289\n",
       "b_S    1.414221e-01 0.15139691 -0.1005394  0.3833836\n",
       "b_A   -5.932765e-01 0.15962758 -0.8483922 -0.3381608\n",
       "b_M   -6.724247e-02 0.15499197 -0.3149496  0.1804646\n",
       "b_W    8.806615e-02 0.14685669 -0.1466392  0.3227715\n",
       "sigma  7.579363e-01 0.07496085  0.6381344  0.8777382"
      ]
     },
     "metadata": {},
     "output_type": "display_data"
    }
   ],
   "source": [
    "m6H2b <- quap(\n",
    "    alist(\n",
    "    D ~ dnorm( mu , sigma ),\n",
    "    mu <- a + b_S*S + b_A*A + b_M*M + b_W*W,\n",
    "    a ~ dnorm( 0 , 1 ),\n",
    "    c(b_S, b_A, b_M, b_W) ~ dnorm( 0 , 1 ),\n",
    "    sigma ~ dexp( 1 )\n",
    "    ), data=d )\n",
    "\n",
    "precis(m6H2b)"
   ]
  },
  {
   "cell_type": "code",
   "execution_count": 46,
   "metadata": {
    "scrolled": true
   },
   "outputs": [
    {
     "data": {
      "text/html": [
       "<table>\n",
       "<caption>A precis: 4 × 4</caption>\n",
       "<thead>\n",
       "\t<tr><th></th><th scope=col>mean</th><th scope=col>sd</th><th scope=col>5.5%</th><th scope=col>94.5%</th></tr>\n",
       "\t<tr><th></th><th scope=col>&lt;dbl&gt;</th><th scope=col>&lt;dbl&gt;</th><th scope=col>&lt;dbl&gt;</th><th scope=col>&lt;dbl&gt;</th></tr>\n",
       "</thead>\n",
       "<tbody>\n",
       "\t<tr><th scope=row>a</th><td>-1.225441e-07</td><td>0.13678110</td><td>-0.2186027</td><td>0.2186025</td></tr>\n",
       "\t<tr><th scope=row>b_W</th><td>-5.008723e-02</td><td>0.18678548</td><td>-0.3486065</td><td>0.2484321</td></tr>\n",
       "\t<tr><th scope=row>b_S</th><td> 1.139463e-01</td><td>0.18678621</td><td>-0.1845742</td><td>0.4124667</td></tr>\n",
       "\t<tr><th scope=row>sigma</th><td> 9.763650e-01</td><td>0.09623843</td><td> 0.8225574</td><td>1.1301726</td></tr>\n",
       "</tbody>\n",
       "</table>\n"
      ],
      "text/latex": [
       "A precis: 4 × 4\n",
       "\\begin{tabular}{r|llll}\n",
       "  & mean & sd & 5.5\\% & 94.5\\%\\\\\n",
       "  & <dbl> & <dbl> & <dbl> & <dbl>\\\\\n",
       "\\hline\n",
       "\ta & -1.225441e-07 & 0.13678110 & -0.2186027 & 0.2186025\\\\\n",
       "\tb\\_W & -5.008723e-02 & 0.18678548 & -0.3486065 & 0.2484321\\\\\n",
       "\tb\\_S &  1.139463e-01 & 0.18678621 & -0.1845742 & 0.4124667\\\\\n",
       "\tsigma &  9.763650e-01 & 0.09623843 &  0.8225574 & 1.1301726\\\\\n",
       "\\end{tabular}\n"
      ],
      "text/markdown": [
       "\n",
       "A precis: 4 × 4\n",
       "\n",
       "| <!--/--> | mean &lt;dbl&gt; | sd &lt;dbl&gt; | 5.5% &lt;dbl&gt; | 94.5% &lt;dbl&gt; |\n",
       "|---|---|---|---|---|\n",
       "| a | -1.225441e-07 | 0.13678110 | -0.2186027 | 0.2186025 |\n",
       "| b_W | -5.008723e-02 | 0.18678548 | -0.3486065 | 0.2484321 |\n",
       "| b_S |  1.139463e-01 | 0.18678621 | -0.1845742 | 0.4124667 |\n",
       "| sigma |  9.763650e-01 | 0.09623843 |  0.8225574 | 1.1301726 |\n",
       "\n"
      ],
      "text/plain": [
       "      mean          sd         5.5%       94.5%    \n",
       "a     -1.225441e-07 0.13678110 -0.2186027 0.2186025\n",
       "b_W   -5.008723e-02 0.18678548 -0.3486065 0.2484321\n",
       "b_S    1.139463e-01 0.18678621 -0.1845742 0.4124667\n",
       "sigma  9.763650e-01 0.09623843  0.8225574 1.1301726"
      ]
     },
     "metadata": {},
     "output_type": "display_data"
    }
   ],
   "source": [
    "m6H2c <- quap(\n",
    "    alist(\n",
    "    M ~ dnorm( mu , sigma ),\n",
    "    mu <- a + b_W*W + b_S*S,\n",
    "    a ~ dnorm( 0 , 1 ),\n",
    "    c(b_W, b_S) ~ dnorm( 0 , 1 ),\n",
    "    sigma ~ dexp( 1 )\n",
    "    ), data=d )\n",
    "\n",
    "precis(m6H2c)"
   ]
  },
  {
   "cell_type": "markdown",
   "metadata": {},
   "source": [
    "Chapter 7, section 7.5.1 discussion about model comparison of fungal treatment models m6.6, m6.7, m6.8."
   ]
  },
  {
   "cell_type": "markdown",
   "metadata": {},
   "source": [
    "R code 7.26"
   ]
  },
  {
   "cell_type": "code",
   "execution_count": 55,
   "metadata": {},
   "outputs": [
    {
     "data": {
      "text/html": [
       "361.451105662345"
      ],
      "text/latex": [
       "361.451105662345"
      ],
      "text/markdown": [
       "361.451105662345"
      ],
      "text/plain": [
       "[1] 361.4511\n",
       "attr(,\"lppd\")\n",
       "[1] -177.1724\n",
       "attr(,\"pWAIC\")\n",
       "[1] 3.553198\n",
       "attr(,\"se\")\n",
       "[1] 14.17033"
      ]
     },
     "metadata": {},
     "output_type": "display_data"
    }
   ],
   "source": [
    "set.seed(11)\n",
    "w <- WAIC( m6.7 )\n",
    "w"
   ]
  },
  {
   "cell_type": "code",
   "execution_count": 56,
   "metadata": {},
   "outputs": [
    {
     "data": {
      "text/html": [
       "-177.172354756546"
      ],
      "text/latex": [
       "-177.172354756546"
      ],
      "text/markdown": [
       "-177.172354756546"
      ],
      "text/plain": [
       "[1] -177.1724"
      ]
     },
     "metadata": {},
     "output_type": "display_data"
    }
   ],
   "source": [
    "attr(w,\"lppd\")"
   ]
  },
  {
   "cell_type": "code",
   "execution_count": 57,
   "metadata": {},
   "outputs": [
    {
     "data": {
      "text/html": [
       "3.55319807462621"
      ],
      "text/latex": [
       "3.55319807462621"
      ],
      "text/markdown": [
       "3.55319807462621"
      ],
      "text/plain": [
       "[1] 3.553198"
      ]
     },
     "metadata": {},
     "output_type": "display_data"
    }
   ],
   "source": [
    "attr(w,\"pWAIC\")"
   ]
  },
  {
   "cell_type": "code",
   "execution_count": 59,
   "metadata": {},
   "outputs": [
    {
     "data": {
      "text/html": [
       "14.1703343366161"
      ],
      "text/latex": [
       "14.1703343366161"
      ],
      "text/markdown": [
       "14.1703343366161"
      ],
      "text/plain": [
       "[1] 14.17033"
      ]
     },
     "metadata": {},
     "output_type": "display_data"
    }
   ],
   "source": [
    "attr(w,\"se\")"
   ]
  },
  {
   "cell_type": "code",
   "execution_count": 63,
   "metadata": {},
   "outputs": [
    {
     "data": {
      "text/html": [
       "<table>\n",
       "<caption>A compareIC: 3 × 6</caption>\n",
       "<thead>\n",
       "\t<tr><th></th><th scope=col>WAIC</th><th scope=col>pWAIC</th><th scope=col>dWAIC</th><th scope=col>weight</th><th scope=col>SE</th><th scope=col>dSE</th></tr>\n",
       "\t<tr><th></th><th scope=col>&lt;dbl&gt;</th><th scope=col>&lt;dbl&gt;</th><th scope=col>&lt;dbl&gt;</th><th scope=col>&lt;dbl&gt;</th><th scope=col>&lt;dbl&gt;</th><th scope=col>&lt;dbl&gt;</th></tr>\n",
       "</thead>\n",
       "<tbody>\n",
       "\t<tr><th scope=row>m6.7</th><td>361.8901</td><td>3.839491</td><td> 0.00000</td><td>1.000000e+00</td><td>14.26190</td><td>      NA</td></tr>\n",
       "\t<tr><th scope=row>m6.8</th><td>402.7757</td><td>2.645879</td><td>40.88562</td><td>1.323732e-09</td><td>11.28257</td><td>10.47837</td></tr>\n",
       "\t<tr><th scope=row>m6.6</th><td>405.9139</td><td>1.581312</td><td>44.02380</td><td>2.756471e-10</td><td>11.64641</td><td>12.22582</td></tr>\n",
       "</tbody>\n",
       "</table>\n"
      ],
      "text/latex": [
       "A compareIC: 3 × 6\n",
       "\\begin{tabular}{r|llllll}\n",
       "  & WAIC & pWAIC & dWAIC & weight & SE & dSE\\\\\n",
       "  & <dbl> & <dbl> & <dbl> & <dbl> & <dbl> & <dbl>\\\\\n",
       "\\hline\n",
       "\tm6.7 & 361.8901 & 3.839491 &  0.00000 & 1.000000e+00 & 14.26190 &       NA\\\\\n",
       "\tm6.8 & 402.7757 & 2.645879 & 40.88562 & 1.323732e-09 & 11.28257 & 10.47837\\\\\n",
       "\tm6.6 & 405.9139 & 1.581312 & 44.02380 & 2.756471e-10 & 11.64641 & 12.22582\\\\\n",
       "\\end{tabular}\n"
      ],
      "text/markdown": [
       "\n",
       "A compareIC: 3 × 6\n",
       "\n",
       "| <!--/--> | WAIC &lt;dbl&gt; | pWAIC &lt;dbl&gt; | dWAIC &lt;dbl&gt; | weight &lt;dbl&gt; | SE &lt;dbl&gt; | dSE &lt;dbl&gt; |\n",
       "|---|---|---|---|---|---|---|\n",
       "| m6.7 | 361.8901 | 3.839491 |  0.00000 | 1.000000e+00 | 14.26190 |       NA |\n",
       "| m6.8 | 402.7757 | 2.645879 | 40.88562 | 1.323732e-09 | 11.28257 | 10.47837 |\n",
       "| m6.6 | 405.9139 | 1.581312 | 44.02380 | 2.756471e-10 | 11.64641 | 12.22582 |\n",
       "\n"
      ],
      "text/plain": [
       "     WAIC     pWAIC    dWAIC    weight       SE       dSE     \n",
       "m6.7 361.8901 3.839491  0.00000 1.000000e+00 14.26190       NA\n",
       "m6.8 402.7757 2.645879 40.88562 1.323732e-09 11.28257 10.47837\n",
       "m6.6 405.9139 1.581312 44.02380 2.756471e-10 11.64641 12.22582"
      ]
     },
     "metadata": {},
     "output_type": "display_data"
    }
   ],
   "source": [
    "set.seed(77)\n",
    "compare( m6.6 , m6.7 , m6.8 )"
   ]
  },
  {
   "cell_type": "code",
   "execution_count": 64,
   "metadata": {},
   "outputs": [
    {
     "name": "stderr",
     "output_type": "stream",
     "text": [
      "Warning message in xcheckLOOk(loo_list$diagnostics$pareto_k, object_name):\n",
      "“Some Pareto k diagnostics are high (>0.5) in z.”"
     ]
    },
    {
     "data": {
      "text/html": [
       "<table>\n",
       "<caption>A compareIC: 3 × 6</caption>\n",
       "<thead>\n",
       "\t<tr><th></th><th scope=col>LOO</th><th scope=col>pLOO</th><th scope=col>dLOO</th><th scope=col>weight</th><th scope=col>SE</th><th scope=col>dSE</th></tr>\n",
       "\t<tr><th></th><th scope=col>&lt;dbl&gt;</th><th scope=col>&lt;dbl&gt;</th><th scope=col>&lt;dbl&gt;</th><th scope=col>&lt;dbl&gt;</th><th scope=col>&lt;dbl&gt;</th><th scope=col>&lt;dbl&gt;</th></tr>\n",
       "</thead>\n",
       "<tbody>\n",
       "\t<tr><th scope=row>m6.7</th><td>361.4752</td><td>3.573454</td><td> 0.00000</td><td>1.000000e+00</td><td>14.19715</td><td>      NA</td></tr>\n",
       "\t<tr><th scope=row>m6.8</th><td>402.9708</td><td>2.759388</td><td>41.49561</td><td>9.757606e-10</td><td>11.34153</td><td>10.44425</td></tr>\n",
       "\t<tr><th scope=row>m6.6</th><td>405.9343</td><td>1.591529</td><td>44.45910</td><td>2.217328e-10</td><td>11.70914</td><td>12.20141</td></tr>\n",
       "</tbody>\n",
       "</table>\n"
      ],
      "text/latex": [
       "A compareIC: 3 × 6\n",
       "\\begin{tabular}{r|llllll}\n",
       "  & LOO & pLOO & dLOO & weight & SE & dSE\\\\\n",
       "  & <dbl> & <dbl> & <dbl> & <dbl> & <dbl> & <dbl>\\\\\n",
       "\\hline\n",
       "\tm6.7 & 361.4752 & 3.573454 &  0.00000 & 1.000000e+00 & 14.19715 &       NA\\\\\n",
       "\tm6.8 & 402.9708 & 2.759388 & 41.49561 & 9.757606e-10 & 11.34153 & 10.44425\\\\\n",
       "\tm6.6 & 405.9343 & 1.591529 & 44.45910 & 2.217328e-10 & 11.70914 & 12.20141\\\\\n",
       "\\end{tabular}\n"
      ],
      "text/markdown": [
       "\n",
       "A compareIC: 3 × 6\n",
       "\n",
       "| <!--/--> | LOO &lt;dbl&gt; | pLOO &lt;dbl&gt; | dLOO &lt;dbl&gt; | weight &lt;dbl&gt; | SE &lt;dbl&gt; | dSE &lt;dbl&gt; |\n",
       "|---|---|---|---|---|---|---|\n",
       "| m6.7 | 361.4752 | 3.573454 |  0.00000 | 1.000000e+00 | 14.19715 |       NA |\n",
       "| m6.8 | 402.9708 | 2.759388 | 41.49561 | 9.757606e-10 | 11.34153 | 10.44425 |\n",
       "| m6.6 | 405.9343 | 1.591529 | 44.45910 | 2.217328e-10 | 11.70914 | 12.20141 |\n",
       "\n"
      ],
      "text/plain": [
       "     LOO      pLOO     dLOO     weight       SE       dSE     \n",
       "m6.7 361.4752 3.573454  0.00000 1.000000e+00 14.19715       NA\n",
       "m6.8 402.9708 2.759388 41.49561 9.757606e-10 11.34153 10.44425\n",
       "m6.6 405.9343 1.591529 44.45910 2.217328e-10 11.70914 12.20141"
      ]
     },
     "metadata": {},
     "output_type": "display_data"
    }
   ],
   "source": [
    "set.seed(77)\n",
    "compare( m6.6 , m6.7 , m6.8, func=LOO )"
   ]
  },
  {
   "cell_type": "code",
   "execution_count": 86,
   "metadata": {},
   "outputs": [],
   "source": [
    "set.seed(91)\n",
    "waic_m6.7 <- WAIC( m6.7 , pointwise=TRUE )\n",
    "waic_m6.8 <- WAIC( m6.8 , pointwise=TRUE )\n",
    "n <- length(waic_m6.8)\n",
    "diff_m6.7_m6.8 <- waic_m6.7 - waic_m6.8"
   ]
  },
  {
   "cell_type": "code",
   "execution_count": 87,
   "metadata": {},
   "outputs": [
    {
     "data": {
      "text/html": [
       "10.3580969929391"
      ],
      "text/latex": [
       "10.3580969929391"
      ],
      "text/markdown": [
       "10.3580969929391"
      ],
      "text/plain": [
       "[1] 10.3581"
      ]
     },
     "metadata": {},
     "output_type": "display_data"
    }
   ],
   "source": [
    "sqrt(n*var(diff_m6.7_m6.8))"
   ]
  },
  {
   "cell_type": "code",
   "execution_count": 88,
   "metadata": {},
   "outputs": [
    {
     "data": {
      "text/html": [
       "<ol class=list-inline>\n",
       "\t<li>12.96</li>\n",
       "\t<li>67.04</li>\n",
       "</ol>\n"
      ],
      "text/latex": [
       "\\begin{enumerate*}\n",
       "\\item 12.96\n",
       "\\item 67.04\n",
       "\\end{enumerate*}\n"
      ],
      "text/markdown": [
       "1. 12.96\n",
       "2. 67.04\n",
       "\n",
       "\n"
      ],
      "text/plain": [
       "[1] 12.96 67.04"
      ]
     },
     "metadata": {},
     "output_type": "display_data"
    }
   ],
   "source": [
    "40.0 + c(-1,1)*10.4*2.6"
   ]
  },
  {
   "cell_type": "code",
   "execution_count": 89,
   "metadata": {},
   "outputs": [
    {
     "data": {
      "image/png": "[encoded data removed]",
      "text/plain": [
       "plot without title"
      ]
     },
     "metadata": {},
     "output_type": "display_data"
    }
   ],
   "source": [
    "plot( compare( m6.6 , m6.7 , m6.8 ) )"
   ]
  },
  {
   "cell_type": "code",
   "execution_count": 90,
   "metadata": {},
   "outputs": [
    {
     "data": {
      "text/html": [
       "4.85457538401663"
      ],
      "text/latex": [
       "4.85457538401663"
      ],
      "text/markdown": [
       "4.85457538401663"
      ],
      "text/plain": [
       "[1] 4.854575"
      ]
     },
     "metadata": {},
     "output_type": "display_data"
    }
   ],
   "source": [
    "set.seed(92)\n",
    "waic_m6.6 <- WAIC( m6.6 , pointwise=TRUE )\n",
    "diff_m6.6_m6.8 <- waic_m6.6 - waic_m6.8\n",
    "sqrt( n*var( diff_m6.6_m6.8 ) )"
   ]
  },
  {
   "cell_type": "code",
   "execution_count": 91,
   "metadata": {},
   "outputs": [
    {
     "data": {
      "text/html": [
       "<table>\n",
       "<caption>A matrix: 3 × 3 of type dbl</caption>\n",
       "<thead>\n",
       "\t<tr><th></th><th scope=col>m6.6</th><th scope=col>m6.7</th><th scope=col>m6.8</th></tr>\n",
       "</thead>\n",
       "<tbody>\n",
       "\t<tr><th scope=row>m6.6</th><td>       NA</td><td>12.20191</td><td> 4.930467</td></tr>\n",
       "\t<tr><th scope=row>m6.7</th><td>12.201914</td><td>      NA</td><td>10.426817</td></tr>\n",
       "\t<tr><th scope=row>m6.8</th><td> 4.930467</td><td>10.42682</td><td>       NA</td></tr>\n",
       "</tbody>\n",
       "</table>\n"
      ],
      "text/latex": [
       "A matrix: 3 × 3 of type dbl\n",
       "\\begin{tabular}{r|lll}\n",
       "  & m6.6 & m6.7 & m6.8\\\\\n",
       "\\hline\n",
       "\tm6.6 &        NA & 12.20191 &  4.930467\\\\\n",
       "\tm6.7 & 12.201914 &       NA & 10.426817\\\\\n",
       "\tm6.8 &  4.930467 & 10.42682 &        NA\\\\\n",
       "\\end{tabular}\n"
      ],
      "text/markdown": [
       "\n",
       "A matrix: 3 × 3 of type dbl\n",
       "\n",
       "| <!--/--> | m6.6 | m6.7 | m6.8 |\n",
       "|---|---|---|---|\n",
       "| m6.6 |        NA | 12.20191 |  4.930467 |\n",
       "| m6.7 | 12.201914 |       NA | 10.426817 |\n",
       "| m6.8 |  4.930467 | 10.42682 |        NA |\n",
       "\n"
      ],
      "text/plain": [
       "     m6.6      m6.7     m6.8     \n",
       "m6.6        NA 12.20191  4.930467\n",
       "m6.7 12.201914       NA 10.426817\n",
       "m6.8  4.930467 10.42682        NA"
      ]
     },
     "metadata": {},
     "output_type": "display_data"
    }
   ],
   "source": [
    "set.seed(93)\n",
    "compare( m6.6 , m6.7 , m6.8 )@dSE"
   ]
  },
  {
   "cell_type": "code",
   "execution_count": null,
   "metadata": {},
   "outputs": [],
   "source": []
  }
 ],
 "metadata": {
  "kernelspec": {
   "display_name": "R",
   "language": "R",
   "name": "ir"
  },
  "language_info": {
   "codemirror_mode": "r",
   "file_extension": ".r",
   "mimetype": "text/x-r-source",
   "name": "R",
   "pygments_lexer": "r",
   "version": "3.6.1"
  }
 },
 "nbformat": 4,
 "nbformat_minor": 2
}
