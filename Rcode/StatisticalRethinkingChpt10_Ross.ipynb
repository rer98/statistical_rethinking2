{
 "cells": [
  {
   "cell_type": "code",
   "execution_count": 1,
   "metadata": {},
   "outputs": [
    {
     "name": "stderr",
     "output_type": "stream",
     "text": [
      "Loading required package: rstan\n",
      "Loading required package: ggplot2\n",
      "Loading required package: StanHeaders\n",
      "rstan (Version 2.18.2, GitRev: 2e1f913d3ca3)\n",
      "For execution on a local, multicore CPU with excess RAM we recommend calling\n",
      "options(mc.cores = parallel::detectCores()).\n",
      "To avoid recompilation of unchanged Stan programs, we recommend calling\n",
      "rstan_options(auto_write = TRUE)\n",
      "Loading required package: parallel\n",
      "rethinking (Version 1.88)\n"
     ]
    }
   ],
   "source": [
    "mc.cores = parallel::detectCores()\n",
    "#rstan_options(auto_write = TRUE)\n",
    "\n",
    "library(rethinking)"
   ]
  },
  {
   "cell_type": "code",
   "execution_count": 2,
   "metadata": {},
   "outputs": [],
   "source": [
    "p <- list()\n",
    "p$A <- c(0,0,10,0,0)\n",
    "p$B <- c(0,1,8,1,0)\n",
    "p$C <- c(0,2,6,2,0)\n",
    "p$D <- c(1,2,4,2,1)\n",
    "p$E <- c(2,2,2,2,2)"
   ]
  },
  {
   "cell_type": "code",
   "execution_count": 3,
   "metadata": {},
   "outputs": [],
   "source": [
    "p_norm <- lapply( p , function(q) q/sum(q))"
   ]
  },
  {
   "cell_type": "code",
   "execution_count": 4,
   "metadata": {},
   "outputs": [
    {
     "data": {
      "text/html": [
       "<dl class=dl-horizontal>\n",
       "\t<dt>A</dt>\n",
       "\t\t<dd>0</dd>\n",
       "\t<dt>B</dt>\n",
       "\t\t<dd>0.639031859650177</dd>\n",
       "\t<dt>C</dt>\n",
       "\t\t<dd>0.950270539233235</dd>\n",
       "\t<dt>D</dt>\n",
       "\t\t<dd>1.47080847632211</dd>\n",
       "\t<dt>E</dt>\n",
       "\t\t<dd>1.6094379124341</dd>\n",
       "</dl>\n"
      ],
      "text/latex": [
       "\\begin{description*}\n",
       "\\item[A] 0\n",
       "\\item[B] 0.639031859650177\n",
       "\\item[C] 0.950270539233235\n",
       "\\item[D] 1.47080847632211\n",
       "\\item[E] 1.6094379124341\n",
       "\\end{description*}\n"
      ],
      "text/markdown": [
       "A\n",
       ":   0B\n",
       ":   0.639031859650177C\n",
       ":   0.950270539233235D\n",
       ":   1.47080847632211E\n",
       ":   1.6094379124341\n",
       "\n"
      ],
      "text/plain": [
       "        A         B         C         D         E \n",
       "0.0000000 0.6390319 0.9502705 1.4708085 1.6094379 "
      ]
     },
     "metadata": {},
     "output_type": "display_data"
    }
   ],
   "source": [
    "( H <- sapply( p_norm , function(q) -sum(ifelse(q==0,0,q*log(q))) ) )"
   ]
  },
  {
   "cell_type": "code",
   "execution_count": 5,
   "metadata": {},
   "outputs": [],
   "source": [
    "ways <- c(1,90,1260,37800,113400)\n",
    "logwayspp <- log(ways)/10"
   ]
  },
  {
   "cell_type": "code",
   "execution_count": 6,
   "metadata": {},
   "outputs": [
    {
     "data": {
      "image/png": "[encoded data removed]",
      "text/plain": [
       "plot without title"
      ]
     },
     "metadata": {},
     "output_type": "display_data"
    }
   ],
   "source": [
    "plot(H ~ logwayspp)"
   ]
  },
  {
   "cell_type": "code",
   "execution_count": 7,
   "metadata": {},
   "outputs": [
    {
     "data": {
      "text/html": [
       "<ol class=list-inline>\n",
       "\t<li>1</li>\n",
       "\t<li>1</li>\n",
       "\t<li>1</li>\n",
       "\t<li>1</li>\n",
       "</ol>\n"
      ],
      "text/latex": [
       "\\begin{enumerate*}\n",
       "\\item 1\n",
       "\\item 1\n",
       "\\item 1\n",
       "\\item 1\n",
       "\\end{enumerate*}\n"
      ],
      "text/markdown": [
       "1. 1\n",
       "2. 1\n",
       "3. 1\n",
       "4. 1\n",
       "\n",
       "\n"
      ],
      "text/plain": [
       "[1] 1 1 1 1"
      ]
     },
     "metadata": {},
     "output_type": "display_data"
    }
   ],
   "source": [
    "# build list of the candidate distributions\n",
    "p <- list()\n",
    "p[[1]] <- c(1/4,1/4,1/4,1/4)\n",
    "p[[2]] <- c(2/6,1/6,1/6,2/6)\n",
    "p[[3]] <- c(1/6,2/6,2/6,1/6)\n",
    "p[[4]] <- c(1/8,4/8,2/8,1/8)\n",
    "# compute expected value of each\n",
    "sapply( p , function(p) sum(p*c(0,1,1,2)) )"
   ]
  },
  {
   "cell_type": "code",
   "execution_count": 8,
   "metadata": {},
   "outputs": [
    {
     "data": {
      "text/html": [
       "<ol class=list-inline>\n",
       "\t<li>1.38629436111989</li>\n",
       "\t<li>1.32966134885476</li>\n",
       "\t<li>1.32966134885476</li>\n",
       "\t<li>1.2130075659799</li>\n",
       "</ol>\n"
      ],
      "text/latex": [
       "\\begin{enumerate*}\n",
       "\\item 1.38629436111989\n",
       "\\item 1.32966134885476\n",
       "\\item 1.32966134885476\n",
       "\\item 1.2130075659799\n",
       "\\end{enumerate*}\n"
      ],
      "text/markdown": [
       "1. 1.38629436111989\n",
       "2. 1.32966134885476\n",
       "3. 1.32966134885476\n",
       "4. 1.2130075659799\n",
       "\n",
       "\n"
      ],
      "text/plain": [
       "[1] 1.386294 1.329661 1.329661 1.213008"
      ]
     },
     "metadata": {},
     "output_type": "display_data"
    }
   ],
   "source": [
    "# compute entropy of each distribution\n",
    "sapply( p , function(p) -sum( p*log(p) ) )"
   ]
  },
  {
   "cell_type": "code",
   "execution_count": 9,
   "metadata": {},
   "outputs": [
    {
     "data": {
      "text/html": [
       "<ol class=list-inline>\n",
       "\t<li>0.09</li>\n",
       "\t<li>0.21</li>\n",
       "\t<li>0.21</li>\n",
       "\t<li>0.49</li>\n",
       "</ol>\n"
      ],
      "text/latex": [
       "\\begin{enumerate*}\n",
       "\\item 0.09\n",
       "\\item 0.21\n",
       "\\item 0.21\n",
       "\\item 0.49\n",
       "\\end{enumerate*}\n"
      ],
      "text/markdown": [
       "1. 0.09\n",
       "2. 0.21\n",
       "3. 0.21\n",
       "4. 0.49\n",
       "\n",
       "\n"
      ],
      "text/plain": [
       "[1] 0.09 0.21 0.21 0.49"
      ]
     },
     "metadata": {},
     "output_type": "display_data"
    }
   ],
   "source": [
    "p <- 0.7\n",
    "( A <- c( (1-p)^2 , p*(1-p) , (1-p)*p , p^2 ) )"
   ]
  },
  {
   "cell_type": "code",
   "execution_count": 10,
   "metadata": {},
   "outputs": [
    {
     "data": {
      "text/html": [
       "1.22172860410979"
      ],
      "text/latex": [
       "1.22172860410979"
      ],
      "text/markdown": [
       "1.22172860410979"
      ],
      "text/plain": [
       "[1] 1.221729"
      ]
     },
     "metadata": {},
     "output_type": "display_data"
    }
   ],
   "source": [
    "-sum( A*log(A) )"
   ]
  },
  {
   "cell_type": "code",
   "execution_count": 11,
   "metadata": {},
   "outputs": [],
   "source": [
    "sim.p <- function(G=1.4) {\n",
    "x123 <- runif(3)\n",
    "x4 <- ( (G)*sum(x123)-x123[2]-x123[3] )/(2-G)\n",
    "z <- sum( c(x123,x4) )\n",
    "p <- c( x123 , x4 )/z\n",
    "list( H=-sum( p*log(p) ) , p=p )\n",
    "}"
   ]
  },
  {
   "cell_type": "code",
   "execution_count": 12,
   "metadata": {},
   "outputs": [
    {
     "data": {
      "image/png": "[encoded data removed]",
      "text/plain": [
       "Plot with title “”"
      ]
     },
     "metadata": {},
     "output_type": "display_data"
    }
   ],
   "source": [
    "H <- replicate( 1e6 , sim.p(1.4) )\n",
    "dens( as.numeric(H[1,]) , adj=0.1 )"
   ]
  },
  {
   "cell_type": "code",
   "execution_count": 13,
   "metadata": {},
   "outputs": [],
   "source": [
    "entropies <- as.numeric(H[1,])\n",
    "distributions <- H[2,]"
   ]
  },
  {
   "cell_type": "code",
   "execution_count": 14,
   "metadata": {},
   "outputs": [
    {
     "data": {
      "text/html": [
       "1.22172841248966"
      ],
      "text/latex": [
       "1.22172841248966"
      ],
      "text/markdown": [
       "1.22172841248966"
      ],
      "text/plain": [
       "[1] 1.221728"
      ]
     },
     "metadata": {},
     "output_type": "display_data"
    }
   ],
   "source": [
    "max(entropies)"
   ]
  },
  {
   "cell_type": "code",
   "execution_count": 15,
   "metadata": {},
   "outputs": [
    {
     "data": {
      "text/html": [
       "<ol>\n",
       "\t<li><ol class=list-inline>\n",
       "\t<li>0.0899902803865912</li>\n",
       "\t<li>0.210209762456446</li>\n",
       "\t<li>0.209809676770371</li>\n",
       "\t<li>0.489990280386591</li>\n",
       "</ol>\n",
       "</li>\n",
       "</ol>\n"
      ],
      "text/latex": [
       "\\begin{enumerate}\n",
       "\\item \\begin{enumerate*}\n",
       "\\item 0.0899902803865912\n",
       "\\item 0.210209762456446\n",
       "\\item 0.209809676770371\n",
       "\\item 0.489990280386591\n",
       "\\end{enumerate*}\n",
       "\n",
       "\\end{enumerate}\n"
      ],
      "text/markdown": [
       "1. 1. 0.0899902803865912\n",
       "2. 0.210209762456446\n",
       "3. 0.209809676770371\n",
       "4. 0.489990280386591\n",
       "\n",
       "\n",
       "\n",
       "\n",
       "\n"
      ],
      "text/plain": [
       "[[1]]\n",
       "[1] 0.08999028 0.21020976 0.20980968 0.48999028\n"
      ]
     },
     "metadata": {},
     "output_type": "display_data"
    }
   ],
   "source": [
    "distributions[ which.max(entropies) ]"
   ]
  },
  {
   "cell_type": "code",
   "execution_count": null,
   "metadata": {},
   "outputs": [],
   "source": []
  }
 ],
 "metadata": {
  "kernelspec": {
   "display_name": "R",
   "language": "R",
   "name": "ir"
  },
  "language_info": {
   "codemirror_mode": "r",
   "file_extension": ".r",
   "mimetype": "text/x-r-source",
   "name": "R",
   "pygments_lexer": "r",
   "version": "3.6.1"
  }
 },
 "nbformat": 4,
 "nbformat_minor": 2
}
